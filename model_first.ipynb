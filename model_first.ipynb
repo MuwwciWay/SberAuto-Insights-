{
 "cells": [
  {
   "cell_type": "code",
   "execution_count": 49,
   "metadata": {},
   "outputs": [],
   "source": [
    "import pandas as pd\n",
    "from sklearn import svm\n",
    "import numpy as np\n",
    "\n",
    "from sklearn.metrics import accuracy_score\n",
    "from sklearn.model_selection import train_test_split\n",
    "\n",
    "from sklearn.metrics import accuracy_score, recall_score, roc_auc_score\n",
    "\n",
    "from sklearn.linear_model import LogisticRegression\n",
    "\n",
    "from sklearn.metrics import classification_report  \n",
    "from sklearn.metrics import confusion_matrix  \n",
    "from sklearn.metrics import accuracy_score  \n",
    "from sklearn.neighbors import KNeighborsClassifier  \n",
    "from sklearn.svm import SVC\n",
    "\n",
    "import seaborn as sns"
   ]
  },
  {
   "cell_type": "markdown",
   "metadata": {},
   "source": [
    "# Baseline Модель"
   ]
  },
  {
   "cell_type": "markdown",
   "metadata": {},
   "source": [
    "## Визуал"
   ]
  },
  {
   "cell_type": "code",
   "execution_count": 3,
   "metadata": {},
   "outputs": [],
   "source": [
    "merged_df = pd.read_csv('merged_data.csv', sep=',')"
   ]
  },
  {
   "cell_type": "markdown",
   "metadata": {},
   "source": [
    "####"
   ]
  },
  {
   "cell_type": "code",
   "execution_count": 3,
   "metadata": {},
   "outputs": [
    {
     "data": {
      "text/html": [
       "<div>\n",
       "<style scoped>\n",
       "    .dataframe tbody tr th:only-of-type {\n",
       "        vertical-align: middle;\n",
       "    }\n",
       "\n",
       "    .dataframe tbody tr th {\n",
       "        vertical-align: top;\n",
       "    }\n",
       "\n",
       "    .dataframe thead th {\n",
       "        text-align: right;\n",
       "    }\n",
       "</style>\n",
       "<table border=\"1\" class=\"dataframe\">\n",
       "  <thead>\n",
       "    <tr style=\"text-align: right;\">\n",
       "      <th></th>\n",
       "      <th>year</th>\n",
       "      <th>month</th>\n",
       "      <th>day</th>\n",
       "      <th>visit_date</th>\n",
       "    </tr>\n",
       "  </thead>\n",
       "  <tbody>\n",
       "    <tr>\n",
       "      <th>0</th>\n",
       "      <td>2021</td>\n",
       "      <td>12</td>\n",
       "      <td>23</td>\n",
       "      <td>2021-12-23</td>\n",
       "    </tr>\n",
       "    <tr>\n",
       "      <th>1</th>\n",
       "      <td>2021</td>\n",
       "      <td>12</td>\n",
       "      <td>23</td>\n",
       "      <td>2021-12-23</td>\n",
       "    </tr>\n",
       "    <tr>\n",
       "      <th>2</th>\n",
       "      <td>2021</td>\n",
       "      <td>12</td>\n",
       "      <td>23</td>\n",
       "      <td>2021-12-23</td>\n",
       "    </tr>\n",
       "    <tr>\n",
       "      <th>3</th>\n",
       "      <td>2021</td>\n",
       "      <td>12</td>\n",
       "      <td>23</td>\n",
       "      <td>2021-12-23</td>\n",
       "    </tr>\n",
       "    <tr>\n",
       "      <th>4</th>\n",
       "      <td>2021</td>\n",
       "      <td>12</td>\n",
       "      <td>23</td>\n",
       "      <td>2021-12-23</td>\n",
       "    </tr>\n",
       "    <tr>\n",
       "      <th>...</th>\n",
       "      <td>...</td>\n",
       "      <td>...</td>\n",
       "      <td>...</td>\n",
       "      <td>...</td>\n",
       "    </tr>\n",
       "    <tr>\n",
       "      <th>11966281</th>\n",
       "      <td>2021</td>\n",
       "      <td>11</td>\n",
       "      <td>13</td>\n",
       "      <td>2021-11-13</td>\n",
       "    </tr>\n",
       "    <tr>\n",
       "      <th>11966282</th>\n",
       "      <td>2021</td>\n",
       "      <td>11</td>\n",
       "      <td>13</td>\n",
       "      <td>2021-11-13</td>\n",
       "    </tr>\n",
       "    <tr>\n",
       "      <th>11966283</th>\n",
       "      <td>2021</td>\n",
       "      <td>11</td>\n",
       "      <td>13</td>\n",
       "      <td>2021-11-13</td>\n",
       "    </tr>\n",
       "    <tr>\n",
       "      <th>11966284</th>\n",
       "      <td>2021</td>\n",
       "      <td>11</td>\n",
       "      <td>13</td>\n",
       "      <td>2021-11-13</td>\n",
       "    </tr>\n",
       "    <tr>\n",
       "      <th>11966285</th>\n",
       "      <td>2021</td>\n",
       "      <td>11</td>\n",
       "      <td>13</td>\n",
       "      <td>2021-11-13</td>\n",
       "    </tr>\n",
       "  </tbody>\n",
       "</table>\n",
       "<p>11966286 rows × 4 columns</p>\n",
       "</div>"
      ],
      "text/plain": [
       "          year  month  day  visit_date\n",
       "0         2021     12   23  2021-12-23\n",
       "1         2021     12   23  2021-12-23\n",
       "2         2021     12   23  2021-12-23\n",
       "3         2021     12   23  2021-12-23\n",
       "4         2021     12   23  2021-12-23\n",
       "...        ...    ...  ...         ...\n",
       "11966281  2021     11   13  2021-11-13\n",
       "11966282  2021     11   13  2021-11-13\n",
       "11966283  2021     11   13  2021-11-13\n",
       "11966284  2021     11   13  2021-11-13\n",
       "11966285  2021     11   13  2021-11-13\n",
       "\n",
       "[11966286 rows x 4 columns]"
      ]
     },
     "execution_count": 3,
     "metadata": {},
     "output_type": "execute_result"
    }
   ],
   "source": [
    "merged_df[['year', 'month', 'day', 'visit_date']]"
   ]
  },
  {
   "cell_type": "code",
   "execution_count": 4,
   "metadata": {},
   "outputs": [],
   "source": [
    "merged_df = merged_df.drop(['visit_date'], axis=1)"
   ]
  },
  {
   "cell_type": "code",
   "execution_count": 5,
   "metadata": {},
   "outputs": [],
   "source": [
    "merged_df= merged_df.drop(['hit_referer'], axis=1)"
   ]
  },
  {
   "cell_type": "code",
   "execution_count": 10,
   "metadata": {},
   "outputs": [
    {
     "data": {
      "text/html": [
       "<div>\n",
       "<style scoped>\n",
       "    .dataframe tbody tr th:only-of-type {\n",
       "        vertical-align: middle;\n",
       "    }\n",
       "\n",
       "    .dataframe tbody tr th {\n",
       "        vertical-align: top;\n",
       "    }\n",
       "\n",
       "    .dataframe thead th {\n",
       "        text-align: right;\n",
       "    }\n",
       "</style>\n",
       "<table border=\"1\" class=\"dataframe\">\n",
       "  <thead>\n",
       "    <tr style=\"text-align: right;\">\n",
       "      <th></th>\n",
       "      <th>session_id</th>\n",
       "      <th>hit_number</th>\n",
       "      <th>hit_page_path</th>\n",
       "      <th>event_label</th>\n",
       "      <th>year</th>\n",
       "      <th>month</th>\n",
       "      <th>day</th>\n",
       "      <th>event_categories_markup</th>\n",
       "      <th>client_id</th>\n",
       "      <th>visit_time</th>\n",
       "      <th>screen_width</th>\n",
       "      <th>screen_height</th>\n",
       "      <th>utm_source_encoded</th>\n",
       "      <th>utm_medium_encoded</th>\n",
       "      <th>utm_campaign_encoded</th>\n",
       "      <th>device_category_encoded</th>\n",
       "      <th>device_brand_encoded</th>\n",
       "      <th>device_browser_encoded</th>\n",
       "      <th>geo_country_encoded</th>\n",
       "    </tr>\n",
       "  </thead>\n",
       "  <tbody>\n",
       "    <tr>\n",
       "      <th>18</th>\n",
       "      <td>1187487192585096450.1640259719.1640259734</td>\n",
       "      <td>44</td>\n",
       "      <td>client.sap.sberauto-team.com/cars/all/volkswag...</td>\n",
       "      <td>cMCEFfSnnlNHXnIdruks</td>\n",
       "      <td>2021</td>\n",
       "      <td>12</td>\n",
       "      <td>23</td>\n",
       "      <td>1</td>\n",
       "      <td>NaN</td>\n",
       "      <td>NaN</td>\n",
       "      <td>NaN</td>\n",
       "      <td>NaN</td>\n",
       "      <td>NaN</td>\n",
       "      <td>NaN</td>\n",
       "      <td>NaN</td>\n",
       "      <td>NaN</td>\n",
       "      <td>NaN</td>\n",
       "      <td>NaN</td>\n",
       "      <td>NaN</td>\n",
       "    </tr>\n",
       "    <tr>\n",
       "      <th>173</th>\n",
       "      <td>3643304133287772168.1640273158.1640273166</td>\n",
       "      <td>7</td>\n",
       "      <td>client.saptest.sberauto-team.com/cars?city=1&amp;r...</td>\n",
       "      <td>hAHqGICPFQiPwtzubOzs</td>\n",
       "      <td>2021</td>\n",
       "      <td>12</td>\n",
       "      <td>23</td>\n",
       "      <td>0</td>\n",
       "      <td>NaN</td>\n",
       "      <td>NaN</td>\n",
       "      <td>NaN</td>\n",
       "      <td>NaN</td>\n",
       "      <td>NaN</td>\n",
       "      <td>NaN</td>\n",
       "      <td>NaN</td>\n",
       "      <td>NaN</td>\n",
       "      <td>NaN</td>\n",
       "      <td>NaN</td>\n",
       "      <td>NaN</td>\n",
       "    </tr>\n",
       "    <tr>\n",
       "      <th>508</th>\n",
       "      <td>1187487192585096450.1640263335.1640263335</td>\n",
       "      <td>17</td>\n",
       "      <td>client.sap.sberauto-team.com/cars?utm_content_...</td>\n",
       "      <td>hAHqGICPFQiPwtzubOzs</td>\n",
       "      <td>2021</td>\n",
       "      <td>12</td>\n",
       "      <td>23</td>\n",
       "      <td>0</td>\n",
       "      <td>NaN</td>\n",
       "      <td>NaN</td>\n",
       "      <td>NaN</td>\n",
       "      <td>NaN</td>\n",
       "      <td>NaN</td>\n",
       "      <td>NaN</td>\n",
       "      <td>NaN</td>\n",
       "      <td>NaN</td>\n",
       "      <td>NaN</td>\n",
       "      <td>NaN</td>\n",
       "      <td>NaN</td>\n",
       "    </tr>\n",
       "    <tr>\n",
       "      <th>524</th>\n",
       "      <td>1187487192585096450.1640259719.1640259734</td>\n",
       "      <td>8</td>\n",
       "      <td>client.sap.sberauto-team.com/cars?utm_content_...</td>\n",
       "      <td>hAHqGICPFQiPwtzubOzs</td>\n",
       "      <td>2021</td>\n",
       "      <td>12</td>\n",
       "      <td>23</td>\n",
       "      <td>0</td>\n",
       "      <td>NaN</td>\n",
       "      <td>NaN</td>\n",
       "      <td>NaN</td>\n",
       "      <td>NaN</td>\n",
       "      <td>NaN</td>\n",
       "      <td>NaN</td>\n",
       "      <td>NaN</td>\n",
       "      <td>NaN</td>\n",
       "      <td>NaN</td>\n",
       "      <td>NaN</td>\n",
       "      <td>NaN</td>\n",
       "    </tr>\n",
       "    <tr>\n",
       "      <th>546</th>\n",
       "      <td>3643304133287772168.1640268382.1640268391</td>\n",
       "      <td>10</td>\n",
       "      <td>client.sap.sberauto-team.com/cars?city=1&amp;renta...</td>\n",
       "      <td>exyNyRcKbRJNDavyEYoX</td>\n",
       "      <td>2021</td>\n",
       "      <td>12</td>\n",
       "      <td>23</td>\n",
       "      <td>0</td>\n",
       "      <td>NaN</td>\n",
       "      <td>NaN</td>\n",
       "      <td>NaN</td>\n",
       "      <td>NaN</td>\n",
       "      <td>NaN</td>\n",
       "      <td>NaN</td>\n",
       "      <td>NaN</td>\n",
       "      <td>NaN</td>\n",
       "      <td>NaN</td>\n",
       "      <td>NaN</td>\n",
       "      <td>NaN</td>\n",
       "    </tr>\n",
       "    <tr>\n",
       "      <th>...</th>\n",
       "      <td>...</td>\n",
       "      <td>...</td>\n",
       "      <td>...</td>\n",
       "      <td>...</td>\n",
       "      <td>...</td>\n",
       "      <td>...</td>\n",
       "      <td>...</td>\n",
       "      <td>...</td>\n",
       "      <td>...</td>\n",
       "      <td>...</td>\n",
       "      <td>...</td>\n",
       "      <td>...</td>\n",
       "      <td>...</td>\n",
       "      <td>...</td>\n",
       "      <td>...</td>\n",
       "      <td>...</td>\n",
       "      <td>...</td>\n",
       "      <td>...</td>\n",
       "      <td>...</td>\n",
       "    </tr>\n",
       "    <tr>\n",
       "      <th>11957236</th>\n",
       "      <td>1187487192585096450.1638872185.1638872185</td>\n",
       "      <td>13</td>\n",
       "      <td>client.saptest.sberauto-team.com/cars?utm_cont...</td>\n",
       "      <td>hAHqGICPFQiPwtzubOzs</td>\n",
       "      <td>2021</td>\n",
       "      <td>12</td>\n",
       "      <td>7</td>\n",
       "      <td>0</td>\n",
       "      <td>NaN</td>\n",
       "      <td>NaN</td>\n",
       "      <td>NaN</td>\n",
       "      <td>NaN</td>\n",
       "      <td>NaN</td>\n",
       "      <td>NaN</td>\n",
       "      <td>NaN</td>\n",
       "      <td>NaN</td>\n",
       "      <td>NaN</td>\n",
       "      <td>NaN</td>\n",
       "      <td>NaN</td>\n",
       "    </tr>\n",
       "    <tr>\n",
       "      <th>11957273</th>\n",
       "      <td>2463753728364584753.1638871416.1638871416</td>\n",
       "      <td>13</td>\n",
       "      <td>sberauto.com/cars/nissan?rental_car=rental_onl...</td>\n",
       "      <td>kLQDjbTrexjKfprxZDyH</td>\n",
       "      <td>2021</td>\n",
       "      <td>12</td>\n",
       "      <td>7</td>\n",
       "      <td>0</td>\n",
       "      <td>NaN</td>\n",
       "      <td>NaN</td>\n",
       "      <td>NaN</td>\n",
       "      <td>NaN</td>\n",
       "      <td>NaN</td>\n",
       "      <td>NaN</td>\n",
       "      <td>NaN</td>\n",
       "      <td>NaN</td>\n",
       "      <td>NaN</td>\n",
       "      <td>NaN</td>\n",
       "      <td>NaN</td>\n",
       "    </tr>\n",
       "    <tr>\n",
       "      <th>11957635</th>\n",
       "      <td>1187487192585096450.1638871937.1638871980</td>\n",
       "      <td>15</td>\n",
       "      <td>client.saptest.sberauto-team.com/cars/all/niss...</td>\n",
       "      <td>laGwZrsmhPBUTfmuxIBJ</td>\n",
       "      <td>2021</td>\n",
       "      <td>12</td>\n",
       "      <td>7</td>\n",
       "      <td>1</td>\n",
       "      <td>NaN</td>\n",
       "      <td>NaN</td>\n",
       "      <td>NaN</td>\n",
       "      <td>NaN</td>\n",
       "      <td>NaN</td>\n",
       "      <td>NaN</td>\n",
       "      <td>NaN</td>\n",
       "      <td>NaN</td>\n",
       "      <td>NaN</td>\n",
       "      <td>NaN</td>\n",
       "      <td>NaN</td>\n",
       "    </tr>\n",
       "    <tr>\n",
       "      <th>11957652</th>\n",
       "      <td>9133660930566549352.1638862122.1638862220</td>\n",
       "      <td>15</td>\n",
       "      <td>client.degipti.sberauto-team.com/cars?city=1&amp;r...</td>\n",
       "      <td>IVnHYBjOnVYVppvrUpwj</td>\n",
       "      <td>2021</td>\n",
       "      <td>12</td>\n",
       "      <td>7</td>\n",
       "      <td>0</td>\n",
       "      <td>NaN</td>\n",
       "      <td>NaN</td>\n",
       "      <td>NaN</td>\n",
       "      <td>NaN</td>\n",
       "      <td>NaN</td>\n",
       "      <td>NaN</td>\n",
       "      <td>NaN</td>\n",
       "      <td>NaN</td>\n",
       "      <td>NaN</td>\n",
       "      <td>NaN</td>\n",
       "      <td>NaN</td>\n",
       "    </tr>\n",
       "    <tr>\n",
       "      <th>11963071</th>\n",
       "      <td>5538934197588947202.1636824043.1636824043</td>\n",
       "      <td>31</td>\n",
       "      <td>sberauto.com/cars/all/skoda/kodiaq/48a9d436?re...</td>\n",
       "      <td>nnIAUeYiBRLwKVYRFaao</td>\n",
       "      <td>2021</td>\n",
       "      <td>11</td>\n",
       "      <td>13</td>\n",
       "      <td>0</td>\n",
       "      <td>NaN</td>\n",
       "      <td>NaN</td>\n",
       "      <td>NaN</td>\n",
       "      <td>NaN</td>\n",
       "      <td>NaN</td>\n",
       "      <td>NaN</td>\n",
       "      <td>NaN</td>\n",
       "      <td>NaN</td>\n",
       "      <td>NaN</td>\n",
       "      <td>NaN</td>\n",
       "      <td>NaN</td>\n",
       "    </tr>\n",
       "  </tbody>\n",
       "</table>\n",
       "<p>8749 rows × 19 columns</p>\n",
       "</div>"
      ],
      "text/plain": [
       "                                         session_id  hit_number  \\\n",
       "18        1187487192585096450.1640259719.1640259734          44   \n",
       "173       3643304133287772168.1640273158.1640273166           7   \n",
       "508       1187487192585096450.1640263335.1640263335          17   \n",
       "524       1187487192585096450.1640259719.1640259734           8   \n",
       "546       3643304133287772168.1640268382.1640268391          10   \n",
       "...                                             ...         ...   \n",
       "11957236  1187487192585096450.1638872185.1638872185          13   \n",
       "11957273  2463753728364584753.1638871416.1638871416          13   \n",
       "11957635  1187487192585096450.1638871937.1638871980          15   \n",
       "11957652  9133660930566549352.1638862122.1638862220          15   \n",
       "11963071  5538934197588947202.1636824043.1636824043          31   \n",
       "\n",
       "                                              hit_page_path  \\\n",
       "18        client.sap.sberauto-team.com/cars/all/volkswag...   \n",
       "173       client.saptest.sberauto-team.com/cars?city=1&r...   \n",
       "508       client.sap.sberauto-team.com/cars?utm_content_...   \n",
       "524       client.sap.sberauto-team.com/cars?utm_content_...   \n",
       "546       client.sap.sberauto-team.com/cars?city=1&renta...   \n",
       "...                                                     ...   \n",
       "11957236  client.saptest.sberauto-team.com/cars?utm_cont...   \n",
       "11957273  sberauto.com/cars/nissan?rental_car=rental_onl...   \n",
       "11957635  client.saptest.sberauto-team.com/cars/all/niss...   \n",
       "11957652  client.degipti.sberauto-team.com/cars?city=1&r...   \n",
       "11963071  sberauto.com/cars/all/skoda/kodiaq/48a9d436?re...   \n",
       "\n",
       "                   event_label  year  month  day  event_categories_markup  \\\n",
       "18        cMCEFfSnnlNHXnIdruks  2021     12   23                        1   \n",
       "173       hAHqGICPFQiPwtzubOzs  2021     12   23                        0   \n",
       "508       hAHqGICPFQiPwtzubOzs  2021     12   23                        0   \n",
       "524       hAHqGICPFQiPwtzubOzs  2021     12   23                        0   \n",
       "546       exyNyRcKbRJNDavyEYoX  2021     12   23                        0   \n",
       "...                        ...   ...    ...  ...                      ...   \n",
       "11957236  hAHqGICPFQiPwtzubOzs  2021     12    7                        0   \n",
       "11957273  kLQDjbTrexjKfprxZDyH  2021     12    7                        0   \n",
       "11957635  laGwZrsmhPBUTfmuxIBJ  2021     12    7                        1   \n",
       "11957652  IVnHYBjOnVYVppvrUpwj  2021     12    7                        0   \n",
       "11963071  nnIAUeYiBRLwKVYRFaao  2021     11   13                        0   \n",
       "\n",
       "          client_id visit_time  screen_width  screen_height  \\\n",
       "18              NaN        NaN           NaN            NaN   \n",
       "173             NaN        NaN           NaN            NaN   \n",
       "508             NaN        NaN           NaN            NaN   \n",
       "524             NaN        NaN           NaN            NaN   \n",
       "546             NaN        NaN           NaN            NaN   \n",
       "...             ...        ...           ...            ...   \n",
       "11957236        NaN        NaN           NaN            NaN   \n",
       "11957273        NaN        NaN           NaN            NaN   \n",
       "11957635        NaN        NaN           NaN            NaN   \n",
       "11957652        NaN        NaN           NaN            NaN   \n",
       "11963071        NaN        NaN           NaN            NaN   \n",
       "\n",
       "          utm_source_encoded  utm_medium_encoded  utm_campaign_encoded  \\\n",
       "18                       NaN                 NaN                   NaN   \n",
       "173                      NaN                 NaN                   NaN   \n",
       "508                      NaN                 NaN                   NaN   \n",
       "524                      NaN                 NaN                   NaN   \n",
       "546                      NaN                 NaN                   NaN   \n",
       "...                      ...                 ...                   ...   \n",
       "11957236                 NaN                 NaN                   NaN   \n",
       "11957273                 NaN                 NaN                   NaN   \n",
       "11957635                 NaN                 NaN                   NaN   \n",
       "11957652                 NaN                 NaN                   NaN   \n",
       "11963071                 NaN                 NaN                   NaN   \n",
       "\n",
       "          device_category_encoded  device_brand_encoded  \\\n",
       "18                            NaN                   NaN   \n",
       "173                           NaN                   NaN   \n",
       "508                           NaN                   NaN   \n",
       "524                           NaN                   NaN   \n",
       "546                           NaN                   NaN   \n",
       "...                           ...                   ...   \n",
       "11957236                      NaN                   NaN   \n",
       "11957273                      NaN                   NaN   \n",
       "11957635                      NaN                   NaN   \n",
       "11957652                      NaN                   NaN   \n",
       "11963071                      NaN                   NaN   \n",
       "\n",
       "          device_browser_encoded  geo_country_encoded  \n",
       "18                           NaN                  NaN  \n",
       "173                          NaN                  NaN  \n",
       "508                          NaN                  NaN  \n",
       "524                          NaN                  NaN  \n",
       "546                          NaN                  NaN  \n",
       "...                          ...                  ...  \n",
       "11957236                     NaN                  NaN  \n",
       "11957273                     NaN                  NaN  \n",
       "11957635                     NaN                  NaN  \n",
       "11957652                     NaN                  NaN  \n",
       "11963071                     NaN                  NaN  \n",
       "\n",
       "[8749 rows x 19 columns]"
      ]
     },
     "execution_count": 10,
     "metadata": {},
     "output_type": "execute_result"
    }
   ],
   "source": [
    "merged_df[merged_df.isna().any(axis=1)]"
   ]
  },
  {
   "cell_type": "code",
   "execution_count": 6,
   "metadata": {},
   "outputs": [],
   "source": [
    "# так как относительно общего датасета(13млн) 8 тысяч незначительны, а также в этих 8 тысячах много сразу \n",
    "# несколько колонок с пропущенными значениям, поэтому на начальном этапе удаляем все такие строки\n",
    "merged_df = merged_df.dropna()"
   ]
  },
  {
   "cell_type": "markdown",
   "metadata": {},
   "source": [
    "## Разработка"
   ]
  },
  {
   "cell_type": "code",
   "execution_count": 7,
   "metadata": {},
   "outputs": [
    {
     "data": {
      "text/plain": [
       "((9566029, 14), (2391508, 14))"
      ]
     },
     "execution_count": 7,
     "metadata": {},
     "output_type": "execute_result"
    }
   ],
   "source": [
    "x = merged_df.drop(['event_categories_markup', 'visit_time', 'session_id', 'hit_page_path', 'event_label', 'client_id'], axis=1)\n",
    "y = merged_df.event_categories_markup\n",
    "x_train, x_test, y_train, y_test = train_test_split(x, y, test_size=0.2, random_state=42)\n",
    "x_train.shape, x_test.shape"
   ]
  },
  {
   "cell_type": "markdown",
   "metadata": {},
   "source": [
    "### Обучим логистическую регрессию"
   ]
  },
  {
   "cell_type": "code",
   "execution_count": 8,
   "metadata": {},
   "outputs": [
    {
     "data": {
      "text/html": [
       "<style>#sk-container-id-1 {\n",
       "  /* Definition of color scheme common for light and dark mode */\n",
       "  --sklearn-color-text: black;\n",
       "  --sklearn-color-line: gray;\n",
       "  /* Definition of color scheme for unfitted estimators */\n",
       "  --sklearn-color-unfitted-level-0: #fff5e6;\n",
       "  --sklearn-color-unfitted-level-1: #f6e4d2;\n",
       "  --sklearn-color-unfitted-level-2: #ffe0b3;\n",
       "  --sklearn-color-unfitted-level-3: chocolate;\n",
       "  /* Definition of color scheme for fitted estimators */\n",
       "  --sklearn-color-fitted-level-0: #f0f8ff;\n",
       "  --sklearn-color-fitted-level-1: #d4ebff;\n",
       "  --sklearn-color-fitted-level-2: #b3dbfd;\n",
       "  --sklearn-color-fitted-level-3: cornflowerblue;\n",
       "\n",
       "  /* Specific color for light theme */\n",
       "  --sklearn-color-text-on-default-background: var(--sg-text-color, var(--theme-code-foreground, var(--jp-content-font-color1, black)));\n",
       "  --sklearn-color-background: var(--sg-background-color, var(--theme-background, var(--jp-layout-color0, white)));\n",
       "  --sklearn-color-border-box: var(--sg-text-color, var(--theme-code-foreground, var(--jp-content-font-color1, black)));\n",
       "  --sklearn-color-icon: #696969;\n",
       "\n",
       "  @media (prefers-color-scheme: dark) {\n",
       "    /* Redefinition of color scheme for dark theme */\n",
       "    --sklearn-color-text-on-default-background: var(--sg-text-color, var(--theme-code-foreground, var(--jp-content-font-color1, white)));\n",
       "    --sklearn-color-background: var(--sg-background-color, var(--theme-background, var(--jp-layout-color0, #111)));\n",
       "    --sklearn-color-border-box: var(--sg-text-color, var(--theme-code-foreground, var(--jp-content-font-color1, white)));\n",
       "    --sklearn-color-icon: #878787;\n",
       "  }\n",
       "}\n",
       "\n",
       "#sk-container-id-1 {\n",
       "  color: var(--sklearn-color-text);\n",
       "}\n",
       "\n",
       "#sk-container-id-1 pre {\n",
       "  padding: 0;\n",
       "}\n",
       "\n",
       "#sk-container-id-1 input.sk-hidden--visually {\n",
       "  border: 0;\n",
       "  clip: rect(1px 1px 1px 1px);\n",
       "  clip: rect(1px, 1px, 1px, 1px);\n",
       "  height: 1px;\n",
       "  margin: -1px;\n",
       "  overflow: hidden;\n",
       "  padding: 0;\n",
       "  position: absolute;\n",
       "  width: 1px;\n",
       "}\n",
       "\n",
       "#sk-container-id-1 div.sk-dashed-wrapped {\n",
       "  border: 1px dashed var(--sklearn-color-line);\n",
       "  margin: 0 0.4em 0.5em 0.4em;\n",
       "  box-sizing: border-box;\n",
       "  padding-bottom: 0.4em;\n",
       "  background-color: var(--sklearn-color-background);\n",
       "}\n",
       "\n",
       "#sk-container-id-1 div.sk-container {\n",
       "  /* jupyter's `normalize.less` sets `[hidden] { display: none; }`\n",
       "     but bootstrap.min.css set `[hidden] { display: none !important; }`\n",
       "     so we also need the `!important` here to be able to override the\n",
       "     default hidden behavior on the sphinx rendered scikit-learn.org.\n",
       "     See: https://github.com/scikit-learn/scikit-learn/issues/21755 */\n",
       "  display: inline-block !important;\n",
       "  position: relative;\n",
       "}\n",
       "\n",
       "#sk-container-id-1 div.sk-text-repr-fallback {\n",
       "  display: none;\n",
       "}\n",
       "\n",
       "div.sk-parallel-item,\n",
       "div.sk-serial,\n",
       "div.sk-item {\n",
       "  /* draw centered vertical line to link estimators */\n",
       "  background-image: linear-gradient(var(--sklearn-color-text-on-default-background), var(--sklearn-color-text-on-default-background));\n",
       "  background-size: 2px 100%;\n",
       "  background-repeat: no-repeat;\n",
       "  background-position: center center;\n",
       "}\n",
       "\n",
       "/* Parallel-specific style estimator block */\n",
       "\n",
       "#sk-container-id-1 div.sk-parallel-item::after {\n",
       "  content: \"\";\n",
       "  width: 100%;\n",
       "  border-bottom: 2px solid var(--sklearn-color-text-on-default-background);\n",
       "  flex-grow: 1;\n",
       "}\n",
       "\n",
       "#sk-container-id-1 div.sk-parallel {\n",
       "  display: flex;\n",
       "  align-items: stretch;\n",
       "  justify-content: center;\n",
       "  background-color: var(--sklearn-color-background);\n",
       "  position: relative;\n",
       "}\n",
       "\n",
       "#sk-container-id-1 div.sk-parallel-item {\n",
       "  display: flex;\n",
       "  flex-direction: column;\n",
       "}\n",
       "\n",
       "#sk-container-id-1 div.sk-parallel-item:first-child::after {\n",
       "  align-self: flex-end;\n",
       "  width: 50%;\n",
       "}\n",
       "\n",
       "#sk-container-id-1 div.sk-parallel-item:last-child::after {\n",
       "  align-self: flex-start;\n",
       "  width: 50%;\n",
       "}\n",
       "\n",
       "#sk-container-id-1 div.sk-parallel-item:only-child::after {\n",
       "  width: 0;\n",
       "}\n",
       "\n",
       "/* Serial-specific style estimator block */\n",
       "\n",
       "#sk-container-id-1 div.sk-serial {\n",
       "  display: flex;\n",
       "  flex-direction: column;\n",
       "  align-items: center;\n",
       "  background-color: var(--sklearn-color-background);\n",
       "  padding-right: 1em;\n",
       "  padding-left: 1em;\n",
       "}\n",
       "\n",
       "\n",
       "/* Toggleable style: style used for estimator/Pipeline/ColumnTransformer box that is\n",
       "clickable and can be expanded/collapsed.\n",
       "- Pipeline and ColumnTransformer use this feature and define the default style\n",
       "- Estimators will overwrite some part of the style using the `sk-estimator` class\n",
       "*/\n",
       "\n",
       "/* Pipeline and ColumnTransformer style (default) */\n",
       "\n",
       "#sk-container-id-1 div.sk-toggleable {\n",
       "  /* Default theme specific background. It is overwritten whether we have a\n",
       "  specific estimator or a Pipeline/ColumnTransformer */\n",
       "  background-color: var(--sklearn-color-background);\n",
       "}\n",
       "\n",
       "/* Toggleable label */\n",
       "#sk-container-id-1 label.sk-toggleable__label {\n",
       "  cursor: pointer;\n",
       "  display: block;\n",
       "  width: 100%;\n",
       "  margin-bottom: 0;\n",
       "  padding: 0.5em;\n",
       "  box-sizing: border-box;\n",
       "  text-align: center;\n",
       "}\n",
       "\n",
       "#sk-container-id-1 label.sk-toggleable__label-arrow:before {\n",
       "  /* Arrow on the left of the label */\n",
       "  content: \"▸\";\n",
       "  float: left;\n",
       "  margin-right: 0.25em;\n",
       "  color: var(--sklearn-color-icon);\n",
       "}\n",
       "\n",
       "#sk-container-id-1 label.sk-toggleable__label-arrow:hover:before {\n",
       "  color: var(--sklearn-color-text);\n",
       "}\n",
       "\n",
       "/* Toggleable content - dropdown */\n",
       "\n",
       "#sk-container-id-1 div.sk-toggleable__content {\n",
       "  max-height: 0;\n",
       "  max-width: 0;\n",
       "  overflow: hidden;\n",
       "  text-align: left;\n",
       "  /* unfitted */\n",
       "  background-color: var(--sklearn-color-unfitted-level-0);\n",
       "}\n",
       "\n",
       "#sk-container-id-1 div.sk-toggleable__content.fitted {\n",
       "  /* fitted */\n",
       "  background-color: var(--sklearn-color-fitted-level-0);\n",
       "}\n",
       "\n",
       "#sk-container-id-1 div.sk-toggleable__content pre {\n",
       "  margin: 0.2em;\n",
       "  border-radius: 0.25em;\n",
       "  color: var(--sklearn-color-text);\n",
       "  /* unfitted */\n",
       "  background-color: var(--sklearn-color-unfitted-level-0);\n",
       "}\n",
       "\n",
       "#sk-container-id-1 div.sk-toggleable__content.fitted pre {\n",
       "  /* unfitted */\n",
       "  background-color: var(--sklearn-color-fitted-level-0);\n",
       "}\n",
       "\n",
       "#sk-container-id-1 input.sk-toggleable__control:checked~div.sk-toggleable__content {\n",
       "  /* Expand drop-down */\n",
       "  max-height: 200px;\n",
       "  max-width: 100%;\n",
       "  overflow: auto;\n",
       "}\n",
       "\n",
       "#sk-container-id-1 input.sk-toggleable__control:checked~label.sk-toggleable__label-arrow:before {\n",
       "  content: \"▾\";\n",
       "}\n",
       "\n",
       "/* Pipeline/ColumnTransformer-specific style */\n",
       "\n",
       "#sk-container-id-1 div.sk-label input.sk-toggleable__control:checked~label.sk-toggleable__label {\n",
       "  color: var(--sklearn-color-text);\n",
       "  background-color: var(--sklearn-color-unfitted-level-2);\n",
       "}\n",
       "\n",
       "#sk-container-id-1 div.sk-label.fitted input.sk-toggleable__control:checked~label.sk-toggleable__label {\n",
       "  background-color: var(--sklearn-color-fitted-level-2);\n",
       "}\n",
       "\n",
       "/* Estimator-specific style */\n",
       "\n",
       "/* Colorize estimator box */\n",
       "#sk-container-id-1 div.sk-estimator input.sk-toggleable__control:checked~label.sk-toggleable__label {\n",
       "  /* unfitted */\n",
       "  background-color: var(--sklearn-color-unfitted-level-2);\n",
       "}\n",
       "\n",
       "#sk-container-id-1 div.sk-estimator.fitted input.sk-toggleable__control:checked~label.sk-toggleable__label {\n",
       "  /* fitted */\n",
       "  background-color: var(--sklearn-color-fitted-level-2);\n",
       "}\n",
       "\n",
       "#sk-container-id-1 div.sk-label label.sk-toggleable__label,\n",
       "#sk-container-id-1 div.sk-label label {\n",
       "  /* The background is the default theme color */\n",
       "  color: var(--sklearn-color-text-on-default-background);\n",
       "}\n",
       "\n",
       "/* On hover, darken the color of the background */\n",
       "#sk-container-id-1 div.sk-label:hover label.sk-toggleable__label {\n",
       "  color: var(--sklearn-color-text);\n",
       "  background-color: var(--sklearn-color-unfitted-level-2);\n",
       "}\n",
       "\n",
       "/* Label box, darken color on hover, fitted */\n",
       "#sk-container-id-1 div.sk-label.fitted:hover label.sk-toggleable__label.fitted {\n",
       "  color: var(--sklearn-color-text);\n",
       "  background-color: var(--sklearn-color-fitted-level-2);\n",
       "}\n",
       "\n",
       "/* Estimator label */\n",
       "\n",
       "#sk-container-id-1 div.sk-label label {\n",
       "  font-family: monospace;\n",
       "  font-weight: bold;\n",
       "  display: inline-block;\n",
       "  line-height: 1.2em;\n",
       "}\n",
       "\n",
       "#sk-container-id-1 div.sk-label-container {\n",
       "  text-align: center;\n",
       "}\n",
       "\n",
       "/* Estimator-specific */\n",
       "#sk-container-id-1 div.sk-estimator {\n",
       "  font-family: monospace;\n",
       "  border: 1px dotted var(--sklearn-color-border-box);\n",
       "  border-radius: 0.25em;\n",
       "  box-sizing: border-box;\n",
       "  margin-bottom: 0.5em;\n",
       "  /* unfitted */\n",
       "  background-color: var(--sklearn-color-unfitted-level-0);\n",
       "}\n",
       "\n",
       "#sk-container-id-1 div.sk-estimator.fitted {\n",
       "  /* fitted */\n",
       "  background-color: var(--sklearn-color-fitted-level-0);\n",
       "}\n",
       "\n",
       "/* on hover */\n",
       "#sk-container-id-1 div.sk-estimator:hover {\n",
       "  /* unfitted */\n",
       "  background-color: var(--sklearn-color-unfitted-level-2);\n",
       "}\n",
       "\n",
       "#sk-container-id-1 div.sk-estimator.fitted:hover {\n",
       "  /* fitted */\n",
       "  background-color: var(--sklearn-color-fitted-level-2);\n",
       "}\n",
       "\n",
       "/* Specification for estimator info (e.g. \"i\" and \"?\") */\n",
       "\n",
       "/* Common style for \"i\" and \"?\" */\n",
       "\n",
       ".sk-estimator-doc-link,\n",
       "a:link.sk-estimator-doc-link,\n",
       "a:visited.sk-estimator-doc-link {\n",
       "  float: right;\n",
       "  font-size: smaller;\n",
       "  line-height: 1em;\n",
       "  font-family: monospace;\n",
       "  background-color: var(--sklearn-color-background);\n",
       "  border-radius: 1em;\n",
       "  height: 1em;\n",
       "  width: 1em;\n",
       "  text-decoration: none !important;\n",
       "  margin-left: 1ex;\n",
       "  /* unfitted */\n",
       "  border: var(--sklearn-color-unfitted-level-1) 1pt solid;\n",
       "  color: var(--sklearn-color-unfitted-level-1);\n",
       "}\n",
       "\n",
       ".sk-estimator-doc-link.fitted,\n",
       "a:link.sk-estimator-doc-link.fitted,\n",
       "a:visited.sk-estimator-doc-link.fitted {\n",
       "  /* fitted */\n",
       "  border: var(--sklearn-color-fitted-level-1) 1pt solid;\n",
       "  color: var(--sklearn-color-fitted-level-1);\n",
       "}\n",
       "\n",
       "/* On hover */\n",
       "div.sk-estimator:hover .sk-estimator-doc-link:hover,\n",
       ".sk-estimator-doc-link:hover,\n",
       "div.sk-label-container:hover .sk-estimator-doc-link:hover,\n",
       ".sk-estimator-doc-link:hover {\n",
       "  /* unfitted */\n",
       "  background-color: var(--sklearn-color-unfitted-level-3);\n",
       "  color: var(--sklearn-color-background);\n",
       "  text-decoration: none;\n",
       "}\n",
       "\n",
       "div.sk-estimator.fitted:hover .sk-estimator-doc-link.fitted:hover,\n",
       ".sk-estimator-doc-link.fitted:hover,\n",
       "div.sk-label-container:hover .sk-estimator-doc-link.fitted:hover,\n",
       ".sk-estimator-doc-link.fitted:hover {\n",
       "  /* fitted */\n",
       "  background-color: var(--sklearn-color-fitted-level-3);\n",
       "  color: var(--sklearn-color-background);\n",
       "  text-decoration: none;\n",
       "}\n",
       "\n",
       "/* Span, style for the box shown on hovering the info icon */\n",
       ".sk-estimator-doc-link span {\n",
       "  display: none;\n",
       "  z-index: 9999;\n",
       "  position: relative;\n",
       "  font-weight: normal;\n",
       "  right: .2ex;\n",
       "  padding: .5ex;\n",
       "  margin: .5ex;\n",
       "  width: min-content;\n",
       "  min-width: 20ex;\n",
       "  max-width: 50ex;\n",
       "  color: var(--sklearn-color-text);\n",
       "  box-shadow: 2pt 2pt 4pt #999;\n",
       "  /* unfitted */\n",
       "  background: var(--sklearn-color-unfitted-level-0);\n",
       "  border: .5pt solid var(--sklearn-color-unfitted-level-3);\n",
       "}\n",
       "\n",
       ".sk-estimator-doc-link.fitted span {\n",
       "  /* fitted */\n",
       "  background: var(--sklearn-color-fitted-level-0);\n",
       "  border: var(--sklearn-color-fitted-level-3);\n",
       "}\n",
       "\n",
       ".sk-estimator-doc-link:hover span {\n",
       "  display: block;\n",
       "}\n",
       "\n",
       "/* \"?\"-specific style due to the `<a>` HTML tag */\n",
       "\n",
       "#sk-container-id-1 a.estimator_doc_link {\n",
       "  float: right;\n",
       "  font-size: 1rem;\n",
       "  line-height: 1em;\n",
       "  font-family: monospace;\n",
       "  background-color: var(--sklearn-color-background);\n",
       "  border-radius: 1rem;\n",
       "  height: 1rem;\n",
       "  width: 1rem;\n",
       "  text-decoration: none;\n",
       "  /* unfitted */\n",
       "  color: var(--sklearn-color-unfitted-level-1);\n",
       "  border: var(--sklearn-color-unfitted-level-1) 1pt solid;\n",
       "}\n",
       "\n",
       "#sk-container-id-1 a.estimator_doc_link.fitted {\n",
       "  /* fitted */\n",
       "  border: var(--sklearn-color-fitted-level-1) 1pt solid;\n",
       "  color: var(--sklearn-color-fitted-level-1);\n",
       "}\n",
       "\n",
       "/* On hover */\n",
       "#sk-container-id-1 a.estimator_doc_link:hover {\n",
       "  /* unfitted */\n",
       "  background-color: var(--sklearn-color-unfitted-level-3);\n",
       "  color: var(--sklearn-color-background);\n",
       "  text-decoration: none;\n",
       "}\n",
       "\n",
       "#sk-container-id-1 a.estimator_doc_link.fitted:hover {\n",
       "  /* fitted */\n",
       "  background-color: var(--sklearn-color-fitted-level-3);\n",
       "}\n",
       "</style><div id=\"sk-container-id-1\" class=\"sk-top-container\"><div class=\"sk-text-repr-fallback\"><pre>LogisticRegression(class_weight=&#x27;balanced&#x27;)</pre><b>In a Jupyter environment, please rerun this cell to show the HTML representation or trust the notebook. <br />On GitHub, the HTML representation is unable to render, please try loading this page with nbviewer.org.</b></div><div class=\"sk-container\" hidden><div class=\"sk-item\"><div class=\"sk-estimator fitted sk-toggleable\"><input class=\"sk-toggleable__control sk-hidden--visually\" id=\"sk-estimator-id-1\" type=\"checkbox\" checked><label for=\"sk-estimator-id-1\" class=\"sk-toggleable__label fitted sk-toggleable__label-arrow fitted\">&nbsp;&nbsp;LogisticRegression<a class=\"sk-estimator-doc-link fitted\" rel=\"noreferrer\" target=\"_blank\" href=\"https://scikit-learn.org/1.4/modules/generated/sklearn.linear_model.LogisticRegression.html\">?<span>Documentation for LogisticRegression</span></a><span class=\"sk-estimator-doc-link fitted\">i<span>Fitted</span></span></label><div class=\"sk-toggleable__content fitted\"><pre>LogisticRegression(class_weight=&#x27;balanced&#x27;)</pre></div> </div></div></div></div>"
      ],
      "text/plain": [
       "LogisticRegression(class_weight='balanced')"
      ]
     },
     "execution_count": 8,
     "metadata": {},
     "output_type": "execute_result"
    }
   ],
   "source": [
    "model = LogisticRegression(class_weight='balanced')\n",
    "\n",
    "model.fit(x_train, y_train)"
   ]
  },
  {
   "cell_type": "code",
   "execution_count": 9,
   "metadata": {},
   "outputs": [
    {
     "data": {
      "text/plain": [
       "array([0, 0, 0, 0, 0, 0, 0, 0, 0, 0], dtype=int64)"
      ]
     },
     "execution_count": 9,
     "metadata": {},
     "output_type": "execute_result"
    }
   ],
   "source": [
    "pred = model.predict(x_test)\n",
    "\n",
    "pred[:10]"
   ]
  },
  {
   "cell_type": "code",
   "execution_count": 10,
   "metadata": {},
   "outputs": [
    {
     "data": {
      "text/plain": [
       "array([0, 0, 0, 0, 1, 0, 0, 0, 0, 0], dtype=int64)"
      ]
     },
     "execution_count": 10,
     "metadata": {},
     "output_type": "execute_result"
    }
   ],
   "source": [
    "y_test[:10].values"
   ]
  },
  {
   "cell_type": "code",
   "execution_count": 71,
   "metadata": {},
   "outputs": [
    {
     "name": "stdout",
     "output_type": "stream",
     "text": [
      "0.6758475065\n"
     ]
    }
   ],
   "source": [
    "accuracy_score(y_test, pred)"
   ]
  },
  {
   "cell_type": "markdown",
   "metadata": {},
   "source": [
    "### k-ближайших соседей и опорных векторов"
   ]
  },
  {
   "cell_type": "code",
   "execution_count": 20,
   "metadata": {},
   "outputs": [],
   "source": [
    "'''SVC_model = svm.SVC()  \n",
    "# В KNN-модели нужно указать параметр n_neighbors\n",
    "# Это число точек, на которое будет смотреть \n",
    "# классификатор, чтобы определить, к какому классу принадлежит новая точка\n",
    "KNN_model = KNeighborsClassifier(n_neighbors=5)'''"
   ]
  },
  {
   "cell_type": "code",
   "execution_count": 21,
   "metadata": {},
   "outputs": [
    {
     "data": {
      "text/plain": [
       "((11359660, 13), (597877, 13))"
      ]
     },
     "execution_count": 21,
     "metadata": {},
     "output_type": "execute_result"
    }
   ],
   "source": [
    "'''x_train, x_test, y_train, y_test = train_test_split(x, y, test_size=0.05, random_state=42)\n",
    "x_train.shape, x_test.shape'''"
   ]
  },
  {
   "cell_type": "code",
   "execution_count": 22,
   "metadata": {},
   "outputs": [],
   "source": [
    "#SVC_model.fit(x_train, y_train) \n",
    "#SVC_prediction = SVC_model.predict(x_test) "
   ]
  },
  {
   "cell_type": "code",
   "execution_count": 23,
   "metadata": {},
   "outputs": [],
   "source": [
    "#KNN_model.fit(x_train, y_train)\n",
    "#KNN_prediction = KNN_model.predict(x_test)"
   ]
  },
  {
   "cell_type": "code",
   "execution_count": 24,
   "metadata": {},
   "outputs": [],
   "source": [
    "# Оценка точности — простейший вариант оценки работы классификатора\n",
    "#print(accuracy_score(SVC_prediction, y_test))  \n",
    "#print(accuracy_score(KNN_prediction, y_test))  \n",
    "# Но матрица неточности и отчёт о классификации дадут больше информации о производительности\n",
    "#print(confusion_matrix(SVC_prediction, y_test))  \n",
    "#print(classification_report(KNN_prediction, y_test))"
   ]
  },
  {
   "cell_type": "markdown",
   "metadata": {},
   "source": [
    "## Обработка выбросов"
   ]
  },
  {
   "cell_type": "code",
   "execution_count": 25,
   "metadata": {},
   "outputs": [
    {
     "data": {
      "text/html": [
       "<div>\n",
       "<style scoped>\n",
       "    .dataframe tbody tr th:only-of-type {\n",
       "        vertical-align: middle;\n",
       "    }\n",
       "\n",
       "    .dataframe tbody tr th {\n",
       "        vertical-align: top;\n",
       "    }\n",
       "\n",
       "    .dataframe thead th {\n",
       "        text-align: right;\n",
       "    }\n",
       "</style>\n",
       "<table border=\"1\" class=\"dataframe\">\n",
       "  <thead>\n",
       "    <tr style=\"text-align: right;\">\n",
       "      <th></th>\n",
       "      <th>hit_number</th>\n",
       "      <th>year</th>\n",
       "      <th>month</th>\n",
       "      <th>day</th>\n",
       "      <th>event_categories_markup</th>\n",
       "      <th>client_id</th>\n",
       "      <th>screen_width</th>\n",
       "      <th>screen_height</th>\n",
       "      <th>utm_source_encoded</th>\n",
       "      <th>utm_medium_encoded</th>\n",
       "      <th>utm_campaign_encoded</th>\n",
       "      <th>device_category_encoded</th>\n",
       "      <th>device_brand_encoded</th>\n",
       "      <th>device_browser_encoded</th>\n",
       "      <th>geo_country_encoded</th>\n",
       "    </tr>\n",
       "  </thead>\n",
       "  <tbody>\n",
       "    <tr>\n",
       "      <th>count</th>\n",
       "      <td>11957537.00</td>\n",
       "      <td>11957537.0</td>\n",
       "      <td>11957537.00</td>\n",
       "      <td>11957537.00</td>\n",
       "      <td>11957537.00</td>\n",
       "      <td>1.195754e+07</td>\n",
       "      <td>11957537.00</td>\n",
       "      <td>11957537.00</td>\n",
       "      <td>1.195754e+07</td>\n",
       "      <td>11957537.00</td>\n",
       "      <td>1.195754e+07</td>\n",
       "      <td>11957537.00</td>\n",
       "      <td>11957537.00</td>\n",
       "      <td>11957537.0</td>\n",
       "      <td>11957537.00</td>\n",
       "    </tr>\n",
       "    <tr>\n",
       "      <th>mean</th>\n",
       "      <td>23.52</td>\n",
       "      <td>2021.0</td>\n",
       "      <td>8.55</td>\n",
       "      <td>17.12</td>\n",
       "      <td>0.17</td>\n",
       "      <td>1.074791e+09</td>\n",
       "      <td>726.83</td>\n",
       "      <td>860.44</td>\n",
       "      <td>1.659553e+04</td>\n",
       "      <td>11907.39</td>\n",
       "      <td>3.685471e+05</td>\n",
       "      <td>3.65</td>\n",
       "      <td>1741.51</td>\n",
       "      <td>50.3</td>\n",
       "      <td>2691.31</td>\n",
       "    </tr>\n",
       "    <tr>\n",
       "      <th>std</th>\n",
       "      <td>28.29</td>\n",
       "      <td>0.0</td>\n",
       "      <td>2.23</td>\n",
       "      <td>8.79</td>\n",
       "      <td>0.38</td>\n",
       "      <td>6.198305e+08</td>\n",
       "      <td>603.42</td>\n",
       "      <td>152.52</td>\n",
       "      <td>8.111038e+05</td>\n",
       "      <td>31426.36</td>\n",
       "      <td>4.120941e+06</td>\n",
       "      <td>4.41</td>\n",
       "      <td>78807.74</td>\n",
       "      <td>371.4</td>\n",
       "      <td>100231.88</td>\n",
       "    </tr>\n",
       "    <tr>\n",
       "      <th>min</th>\n",
       "      <td>1.00</td>\n",
       "      <td>2021.0</td>\n",
       "      <td>5.00</td>\n",
       "      <td>1.00</td>\n",
       "      <td>0.00</td>\n",
       "      <td>2.321600e+02</td>\n",
       "      <td>0.00</td>\n",
       "      <td>0.00</td>\n",
       "      <td>1.000000e+00</td>\n",
       "      <td>1.00</td>\n",
       "      <td>1.000000e+00</td>\n",
       "      <td>1.00</td>\n",
       "      <td>1.00</td>\n",
       "      <td>1.0</td>\n",
       "      <td>1.00</td>\n",
       "    </tr>\n",
       "    <tr>\n",
       "      <th>25%</th>\n",
       "      <td>8.00</td>\n",
       "      <td>2021.0</td>\n",
       "      <td>7.00</td>\n",
       "      <td>10.00</td>\n",
       "      <td>0.00</td>\n",
       "      <td>5.402154e+08</td>\n",
       "      <td>375.00</td>\n",
       "      <td>780.00</td>\n",
       "      <td>1.000000e+00</td>\n",
       "      <td>1.00</td>\n",
       "      <td>1.010000e+02</td>\n",
       "      <td>1.00</td>\n",
       "      <td>11.00</td>\n",
       "      <td>1.0</td>\n",
       "      <td>1.00</td>\n",
       "    </tr>\n",
       "    <tr>\n",
       "      <th>50%</th>\n",
       "      <td>15.00</td>\n",
       "      <td>2021.0</td>\n",
       "      <td>9.00</td>\n",
       "      <td>18.00</td>\n",
       "      <td>0.00</td>\n",
       "      <td>1.075179e+09</td>\n",
       "      <td>412.00</td>\n",
       "      <td>851.00</td>\n",
       "      <td>1.010000e+02</td>\n",
       "      <td>11.00</td>\n",
       "      <td>1.010000e+02</td>\n",
       "      <td>1.00</td>\n",
       "      <td>100.00</td>\n",
       "      <td>1.0</td>\n",
       "      <td>1.00</td>\n",
       "    </tr>\n",
       "    <tr>\n",
       "      <th>75%</th>\n",
       "      <td>29.00</td>\n",
       "      <td>2021.0</td>\n",
       "      <td>10.00</td>\n",
       "      <td>25.00</td>\n",
       "      <td>0.00</td>\n",
       "      <td>1.611918e+09</td>\n",
       "      <td>962.00</td>\n",
       "      <td>900.00</td>\n",
       "      <td>1.000000e+03</td>\n",
       "      <td>1001.00</td>\n",
       "      <td>1.001000e+04</td>\n",
       "      <td>11.00</td>\n",
       "      <td>110.00</td>\n",
       "      <td>11.0</td>\n",
       "      <td>1.00</td>\n",
       "    </tr>\n",
       "    <tr>\n",
       "      <th>max</th>\n",
       "      <td>500.00</td>\n",
       "      <td>2021.0</td>\n",
       "      <td>12.00</td>\n",
       "      <td>31.00</td>\n",
       "      <td>1.00</td>\n",
       "      <td>2.147483e+09</td>\n",
       "      <td>5924.00</td>\n",
       "      <td>20000.00</td>\n",
       "      <td>1.010011e+08</td>\n",
       "      <td>110110.00</td>\n",
       "      <td>1.101100e+08</td>\n",
       "      <td>11.00</td>\n",
       "      <td>11001101.00</td>\n",
       "      <td>111001.0</td>\n",
       "      <td>10100110.00</td>\n",
       "    </tr>\n",
       "  </tbody>\n",
       "</table>\n",
       "</div>"
      ],
      "text/plain": [
       "        hit_number        year        month          day  \\\n",
       "count  11957537.00  11957537.0  11957537.00  11957537.00   \n",
       "mean         23.52      2021.0         8.55        17.12   \n",
       "std          28.29         0.0         2.23         8.79   \n",
       "min           1.00      2021.0         5.00         1.00   \n",
       "25%           8.00      2021.0         7.00        10.00   \n",
       "50%          15.00      2021.0         9.00        18.00   \n",
       "75%          29.00      2021.0        10.00        25.00   \n",
       "max         500.00      2021.0        12.00        31.00   \n",
       "\n",
       "       event_categories_markup     client_id  screen_width  screen_height  \\\n",
       "count              11957537.00  1.195754e+07   11957537.00    11957537.00   \n",
       "mean                      0.17  1.074791e+09        726.83         860.44   \n",
       "std                       0.38  6.198305e+08        603.42         152.52   \n",
       "min                       0.00  2.321600e+02          0.00           0.00   \n",
       "25%                       0.00  5.402154e+08        375.00         780.00   \n",
       "50%                       0.00  1.075179e+09        412.00         851.00   \n",
       "75%                       0.00  1.611918e+09        962.00         900.00   \n",
       "max                       1.00  2.147483e+09       5924.00       20000.00   \n",
       "\n",
       "       utm_source_encoded  utm_medium_encoded  utm_campaign_encoded  \\\n",
       "count        1.195754e+07         11957537.00          1.195754e+07   \n",
       "mean         1.659553e+04            11907.39          3.685471e+05   \n",
       "std          8.111038e+05            31426.36          4.120941e+06   \n",
       "min          1.000000e+00                1.00          1.000000e+00   \n",
       "25%          1.000000e+00                1.00          1.010000e+02   \n",
       "50%          1.010000e+02               11.00          1.010000e+02   \n",
       "75%          1.000000e+03             1001.00          1.001000e+04   \n",
       "max          1.010011e+08           110110.00          1.101100e+08   \n",
       "\n",
       "       device_category_encoded  device_brand_encoded  device_browser_encoded  \\\n",
       "count              11957537.00           11957537.00              11957537.0   \n",
       "mean                      3.65               1741.51                    50.3   \n",
       "std                       4.41              78807.74                   371.4   \n",
       "min                       1.00                  1.00                     1.0   \n",
       "25%                       1.00                 11.00                     1.0   \n",
       "50%                       1.00                100.00                     1.0   \n",
       "75%                      11.00                110.00                    11.0   \n",
       "max                      11.00           11001101.00                111001.0   \n",
       "\n",
       "       geo_country_encoded  \n",
       "count          11957537.00  \n",
       "mean               2691.31  \n",
       "std              100231.88  \n",
       "min                   1.00  \n",
       "25%                   1.00  \n",
       "50%                   1.00  \n",
       "75%                   1.00  \n",
       "max            10100110.00  "
      ]
     },
     "execution_count": 25,
     "metadata": {},
     "output_type": "execute_result"
    }
   ],
   "source": [
    "merged_df.describe().round(2)"
   ]
  },
  {
   "cell_type": "code",
   "execution_count": 12,
   "metadata": {},
   "outputs": [],
   "source": [
    "# заметим, что все данные с 2021 года, следовательно этот столбец можно удалить\n",
    "merged_df = merged_df.drop(['year'], axis=1)"
   ]
  },
  {
   "cell_type": "markdown",
   "metadata": {},
   "source": [
    "hit_number, screen_width, screen_height, device_brand_encode, device_browser_encoded, geo_country_encoded имеют редкие значения помещенные в max"
   ]
  },
  {
   "cell_type": "markdown",
   "metadata": {},
   "source": [
    "### Проанализируем графики"
   ]
  },
  {
   "cell_type": "code",
   "execution_count": 28,
   "metadata": {},
   "outputs": [
    {
     "data": {
      "text/plain": [
       "<matplotlib.collections.PathCollection at 0x21669e99650>"
      ]
     },
     "execution_count": 28,
     "metadata": {},
     "output_type": "execute_result"
    },
    {
     "data": {
      "image/png": "[encoded data removed]",
      "text/plain": [
       "<Figure size 640x480 with 1 Axes>"
      ]
     },
     "metadata": {},
     "output_type": "display_data"
    }
   ],
   "source": [
    "from matplotlib import pyplot as plt\n",
    "\n",
    "plt.scatter(merged_df['hit_number'], merged_df['event_categories_markup'])"
   ]
  },
  {
   "cell_type": "code",
   "execution_count": 29,
   "metadata": {},
   "outputs": [
    {
     "data": {
      "text/plain": [
       "<matplotlib.collections.PathCollection at 0x21669f2fc50>"
      ]
     },
     "execution_count": 29,
     "metadata": {},
     "output_type": "execute_result"
    },
    {
     "data": {
      "image/png": "[encoded data removed]",
      "text/plain": [
       "<Figure size 640x480 with 1 Axes>"
      ]
     },
     "metadata": {},
     "output_type": "display_data"
    }
   ],
   "source": [
    "plt.scatter(merged_df['screen_height'], merged_df['event_categories_markup'])"
   ]
  },
  {
   "cell_type": "code",
   "execution_count": 13,
   "metadata": {},
   "outputs": [],
   "source": [
    "# Удаление выбросов с помощью квантилей\n",
    "\n",
    "# Вычисление IQR\n",
    "Q1 = merged_df['screen_height'].quantile(0.25)\n",
    "Q3 = merged_df['screen_height'].quantile(0.75)\n",
    "IQR = Q3 - Q1\n",
    "\n",
    "# Определение границ\n",
    "lower_bound = Q1 - 1.5 * IQR\n",
    "upper_bound = Q3 + 1.5 * IQR\n",
    "\n",
    "# Удаление выбросов\n",
    "df_no_outliers = merged_df[(merged_df['screen_height'] >= lower_bound) & (merged_df['screen_height'] <= upper_bound)]\n"
   ]
  },
  {
   "cell_type": "code",
   "execution_count": 31,
   "metadata": {},
   "outputs": [
    {
     "data": {
      "text/plain": [
       "<matplotlib.collections.PathCollection at 0x21669f8fbd0>"
      ]
     },
     "execution_count": 31,
     "metadata": {},
     "output_type": "execute_result"
    },
    {
     "data": {
      "image/png": "[encoded data removed]",
      "text/plain": [
       "<Figure size 640x480 with 1 Axes>"
      ]
     },
     "metadata": {},
     "output_type": "display_data"
    }
   ],
   "source": [
    "plt.scatter(df_no_outliers['screen_height'], df_no_outliers['event_categories_markup'])"
   ]
  },
  {
   "cell_type": "code",
   "execution_count": 32,
   "metadata": {},
   "outputs": [],
   "source": [
    "merged_df2 = df_no_outliers"
   ]
  },
  {
   "cell_type": "code",
   "execution_count": 33,
   "metadata": {},
   "outputs": [
    {
     "data": {
      "text/plain": [
       "<matplotlib.collections.PathCollection at 0x21669fe3910>"
      ]
     },
     "execution_count": 33,
     "metadata": {},
     "output_type": "execute_result"
    },
    {
     "data": {
      "image/png": "[encoded data removed]",
      "text/plain": [
       "<Figure size 640x480 with 1 Axes>"
      ]
     },
     "metadata": {},
     "output_type": "display_data"
    }
   ],
   "source": [
    "plt.scatter(merged_df['screen_width'], merged_df['event_categories_markup'])"
   ]
  },
  {
   "cell_type": "code",
   "execution_count": 15,
   "metadata": {},
   "outputs": [],
   "source": [
    "# Удаление выбросов с помощью квантилей\n",
    "column = 'screen_width'\n",
    "# Вычисление IQR\n",
    "Q1 = merged_df[column].quantile(0.25)\n",
    "Q3 = merged_df[column].quantile(0.75)\n",
    "IQR = Q3 - Q1\n",
    "\n",
    "# Определение границ\n",
    "lower_bound = Q1 - 1.5 * IQR\n",
    "upper_bound = Q3 + 1.5 * IQR\n",
    "\n",
    "# Удаление выбросов\n",
    "df_no_outliers = merged_df[(merged_df[column] >= lower_bound) & (merged_df[column] <= upper_bound)]\n"
   ]
  },
  {
   "cell_type": "code",
   "execution_count": null,
   "metadata": {},
   "outputs": [],
   "source": [
    "plt.scatter(df_no_outliers['screen_width'], df_no_outliers['event_categories_markup'])"
   ]
  },
  {
   "cell_type": "code",
   "execution_count": 35,
   "metadata": {},
   "outputs": [],
   "source": [
    "merged_df2 = df_no_outliers"
   ]
  },
  {
   "cell_type": "code",
   "execution_count": 36,
   "metadata": {},
   "outputs": [
    {
     "data": {
      "text/plain": [
       "<matplotlib.collections.PathCollection at 0x2166a067c50>"
      ]
     },
     "execution_count": 36,
     "metadata": {},
     "output_type": "execute_result"
    },
    {
     "data": {
      "image/png": "[encoded data removed]",
      "text/plain": [
       "<Figure size 640x480 with 1 Axes>"
      ]
     },
     "metadata": {},
     "output_type": "display_data"
    }
   ],
   "source": [
    "plt.scatter(merged_df['device_brand_encoded'], merged_df['event_categories_markup'])"
   ]
  },
  {
   "cell_type": "markdown",
   "metadata": {},
   "source": [
    "# Улучшение модели: Feature Engineering"
   ]
  },
  {
   "cell_type": "markdown",
   "metadata": {},
   "source": [
    "## Построим графики"
   ]
  },
  {
   "cell_type": "code",
   "execution_count": 18,
   "metadata": {},
   "outputs": [],
   "source": [
    "merged_df2 = merged_df.drop(['visit_time', 'client_id', 'session_id', 'hit_page_path', 'event_label'], axis=1)"
   ]
  },
  {
   "cell_type": "markdown",
   "metadata": {},
   "source": [
    "### Преобразование закодированных столбцов"
   ]
  },
  {
   "cell_type": "code",
   "execution_count": 43,
   "metadata": {},
   "outputs": [
    {
     "data": {
      "text/html": [
       "<div>\n",
       "<style scoped>\n",
       "    .dataframe tbody tr th:only-of-type {\n",
       "        vertical-align: middle;\n",
       "    }\n",
       "\n",
       "    .dataframe tbody tr th {\n",
       "        vertical-align: top;\n",
       "    }\n",
       "\n",
       "    .dataframe thead th {\n",
       "        text-align: right;\n",
       "    }\n",
       "</style>\n",
       "<table border=\"1\" class=\"dataframe\">\n",
       "  <thead>\n",
       "    <tr style=\"text-align: right;\">\n",
       "      <th></th>\n",
       "      <th>hit_number</th>\n",
       "      <th>month</th>\n",
       "      <th>day</th>\n",
       "      <th>event_categories_markup</th>\n",
       "      <th>screen_width</th>\n",
       "      <th>screen_height</th>\n",
       "      <th>utm_source_encoded</th>\n",
       "      <th>utm_medium_encoded</th>\n",
       "      <th>utm_campaign_encoded</th>\n",
       "      <th>device_category_encoded</th>\n",
       "      <th>device_brand_encoded</th>\n",
       "      <th>device_browser_encoded</th>\n",
       "      <th>geo_country_encoded</th>\n",
       "    </tr>\n",
       "  </thead>\n",
       "  <tbody>\n",
       "    <tr>\n",
       "      <th>0</th>\n",
       "      <td>11</td>\n",
       "      <td>12</td>\n",
       "      <td>23</td>\n",
       "      <td>0</td>\n",
       "      <td>393.0</td>\n",
       "      <td>873.0</td>\n",
       "      <td>1.0</td>\n",
       "      <td>1.0</td>\n",
       "      <td>1.0</td>\n",
       "      <td>1.0</td>\n",
       "      <td>11.0</td>\n",
       "      <td>1.0</td>\n",
       "      <td>1.0</td>\n",
       "    </tr>\n",
       "  </tbody>\n",
       "</table>\n",
       "</div>"
      ],
      "text/plain": [
       "   hit_number  month  day  event_categories_markup  screen_width  \\\n",
       "0          11     12   23                        0         393.0   \n",
       "\n",
       "   screen_height  utm_source_encoded  utm_medium_encoded  \\\n",
       "0          873.0                 1.0                 1.0   \n",
       "\n",
       "   utm_campaign_encoded  device_category_encoded  device_brand_encoded  \\\n",
       "0                   1.0                      1.0                  11.0   \n",
       "\n",
       "   device_browser_encoded  geo_country_encoded  \n",
       "0                     1.0                  1.0  "
      ]
     },
     "execution_count": 43,
     "metadata": {},
     "output_type": "execute_result"
    }
   ],
   "source": [
    "merged_df2.head(1)"
   ]
  },
  {
   "cell_type": "code",
   "execution_count": 21,
   "metadata": {},
   "outputs": [],
   "source": [
    "def unencoded(merged_df2, count):\n",
    "    # Преобразование двоичных строк в десятичные числа\n",
    "    merged_df2[count] = merged_df2[count].astype(str)\n",
    "    # Удаление последних 2 символов из строк в столбце\n",
    "    merged_df2[count] = merged_df2[count].str[:-2]\n",
    "\n",
    "    merged_df2[count] = merged_df2[count].apply(lambda x: int(x, 2))\n",
    "    return merged_df2\n",
    "merged_df2 = unencoded(merged_df2, 'device_brand_encoded')"
   ]
  },
  {
   "cell_type": "code",
   "execution_count": 22,
   "metadata": {},
   "outputs": [
    {
     "data": {
      "text/plain": [
       "device_brand_encoded\n",
       "4      3645304\n",
       "6      3073234\n",
       "2      1944797\n",
       "3      1529696\n",
       "1      1041269\n",
       "        ...   \n",
       "183          1\n",
       "120          1\n",
       "192          1\n",
       "174          1\n",
       "142          1\n",
       "Name: count, Length: 187, dtype: int64"
      ]
     },
     "execution_count": 22,
     "metadata": {},
     "output_type": "execute_result"
    }
   ],
   "source": [
    "merged_df2['device_brand_encoded'].value_counts()"
   ]
  },
  {
   "cell_type": "code",
   "execution_count": 23,
   "metadata": {},
   "outputs": [
    {
     "data": {
      "text/plain": [
       "device_category_encoded\n",
       "1    8772143\n",
       "3    3072600\n",
       "2     112794\n",
       "Name: count, dtype: int64"
      ]
     },
     "execution_count": 23,
     "metadata": {},
     "output_type": "execute_result"
    }
   ],
   "source": [
    "merged_df2 = unencoded(merged_df2, 'device_category_encoded')\n",
    "merged_df2['device_category_encoded'].value_counts()"
   ]
  },
  {
   "cell_type": "code",
   "execution_count": 24,
   "metadata": {},
   "outputs": [
    {
     "data": {
      "text/plain": [
       "utm_campaign_encoded\n",
       "5      4413170\n",
       "1      2174388\n",
       "6       986993\n",
       "2       437219\n",
       "26      138066\n",
       "        ...   \n",
       "407          1\n",
       "417          1\n",
       "432          1\n",
       "309          1\n",
       "369          1\n",
       "Name: count, Length: 402, dtype: int64"
      ]
     },
     "execution_count": 24,
     "metadata": {},
     "output_type": "execute_result"
    }
   ],
   "source": [
    "merged_df2 = unencoded(merged_df2, 'utm_campaign_encoded')\n",
    "merged_df2['utm_campaign_encoded'].value_counts()"
   ]
  },
  {
   "cell_type": "code",
   "execution_count": 19,
   "metadata": {},
   "outputs": [
    {
     "data": {
      "text/plain": [
       "geo_country_encoded\n",
       "1      11637326\n",
       "3         60265\n",
       "5         25166\n",
       "2         23573\n",
       "21        20392\n",
       "         ...   \n",
       "149           3\n",
       "128           2\n",
       "166           2\n",
       "122           1\n",
       "141           1\n",
       "Name: count, Length: 155, dtype: int64"
      ]
     },
     "execution_count": 19,
     "metadata": {},
     "output_type": "execute_result"
    }
   ],
   "source": [
    "# Преобразование двоичных строк в десятичные числа\n",
    "merged_df2['geo_country_encoded'] = merged_df2['geo_country_encoded'].astype(str)\n",
    "# Удаление последних 2 символов из строк в столбце\n",
    "merged_df2['geo_country_encoded'] = merged_df2['geo_country_encoded'].str[:-2]\n",
    "\n",
    "merged_df2['geo_country_encoded'] = merged_df2['geo_country_encoded'].apply(lambda x: int(x, 2))\n",
    "merged_df2.geo_country_encoded.value_counts()"
   ]
  },
  {
   "cell_type": "code",
   "execution_count": 20,
   "metadata": {},
   "outputs": [
    {
     "data": {
      "text/plain": [
       "device_browser_encoded\n",
       "1     6146733\n",
       "3     3212949\n",
       "4     1027208\n",
       "6      534944\n",
       "5      357488\n",
       "2      199620\n",
       "8      162769\n",
       "7      162312\n",
       "9      146976\n",
       "14       3537\n",
       "13        531\n",
       "23        530\n",
       "11        363\n",
       "15        311\n",
       "26        266\n",
       "12        240\n",
       "25        159\n",
       "27        115\n",
       "30         89\n",
       "29         58\n",
       "16         52\n",
       "24         42\n",
       "17         37\n",
       "18         28\n",
       "35         21\n",
       "36         18\n",
       "28         18\n",
       "21         16\n",
       "31         16\n",
       "37         14\n",
       "19         13\n",
       "38         12\n",
       "45         12\n",
       "34          6\n",
       "42          6\n",
       "41          5\n",
       "54          4\n",
       "43          3\n",
       "49          3\n",
       "39          2\n",
       "56          2\n",
       "47          2\n",
       "33          2\n",
       "10          2\n",
       "57          1\n",
       "40          1\n",
       "46          1\n",
       "Name: count, dtype: int64"
      ]
     },
     "execution_count": 20,
     "metadata": {},
     "output_type": "execute_result"
    }
   ],
   "source": [
    "count = 'device_browser_encoded'\n",
    "# Преобразование двоичных строк в десятичные числа\n",
    "merged_df2[count] = merged_df2[count].astype(str)\n",
    "# Удаление последних 2 символов из строк в столбце\n",
    "merged_df2[count] = merged_df2[count].str[:-2]\n",
    "\n",
    "merged_df2[count] = merged_df2[count].apply(lambda x: int(x, 2))\n",
    "merged_df2[count].value_counts()"
   ]
  },
  {
   "cell_type": "code",
   "execution_count": 25,
   "metadata": {},
   "outputs": [
    {
     "data": {
      "text/plain": [
       "utm_source_encoded\n",
       "1      3716399\n",
       "5      2775883\n",
       "3      1342596\n",
       "18     1176357\n",
       "8       934070\n",
       "        ...   \n",
       "119          1\n",
       "247          1\n",
       "260          1\n",
       "244          1\n",
       "194          1\n",
       "Name: count, Length: 274, dtype: int64"
      ]
     },
     "execution_count": 25,
     "metadata": {},
     "output_type": "execute_result"
    }
   ],
   "source": [
    "merged_df2 = unencoded(merged_df2, 'utm_source_encoded')\n",
    "merged_df2['utm_source_encoded'].value_counts()"
   ]
  },
  {
   "cell_type": "code",
   "execution_count": 26,
   "metadata": {},
   "outputs": [
    {
     "data": {
      "text/plain": [
       "utm_medium_encoded\n",
       "1     3632413\n",
       "3     2423718\n",
       "7     1719316\n",
       "4      536162\n",
       "2      481370\n",
       "22     219195\n",
       "13     197875\n",
       "16     146789\n",
       "14     120081\n",
       "38      85734\n",
       "21      82674\n",
       "27      76018\n",
       "8       72878\n",
       "32      71133\n",
       "18      58179\n",
       "39      55829\n",
       "12      55825\n",
       "34      54932\n",
       "31      53946\n",
       "15      53348\n",
       "30      53319\n",
       "52      53203\n",
       "43      53097\n",
       "19      52970\n",
       "41      52707\n",
       "26      52700\n",
       "51      52659\n",
       "47      52608\n",
       "44      52474\n",
       "46      52370\n",
       "10      52360\n",
       "45      52358\n",
       "42      52155\n",
       "6       52133\n",
       "28      51988\n",
       "17      51958\n",
       "23      51826\n",
       "24      51786\n",
       "53      51696\n",
       "9       51684\n",
       "29      51500\n",
       "36      51490\n",
       "54      51458\n",
       "37      51435\n",
       "25      51352\n",
       "35      51220\n",
       "40      51023\n",
       "33      50950\n",
       "49      50764\n",
       "50      50686\n",
       "20      50560\n",
       "48      50230\n",
       "11      49927\n",
       "5       49476\n",
       "Name: count, dtype: int64"
      ]
     },
     "execution_count": 26,
     "metadata": {},
     "output_type": "execute_result"
    }
   ],
   "source": [
    "merged_df2 = unencoded(merged_df2, 'utm_medium_encoded')\n",
    "merged_df2['utm_medium_encoded'].value_counts()"
   ]
  },
  {
   "cell_type": "markdown",
   "metadata": {},
   "source": [
    "## Еще раз построим графики"
   ]
  },
  {
   "cell_type": "code",
   "execution_count": 52,
   "metadata": {},
   "outputs": [
    {
     "name": "stdout",
     "output_type": "stream",
     "text": [
      "hit_number\n"
     ]
    },
    {
     "data": {
      "image/png": "[encoded data removed]",
      "text/plain": [
       "<Figure size 640x480 with 1 Axes>"
      ]
     },
     "metadata": {},
     "output_type": "display_data"
    },
    {
     "name": "stdout",
     "output_type": "stream",
     "text": [
      "month\n"
     ]
    },
    {
     "data": {
      "image/png": "[encoded data removed]",
      "text/plain": [
       "<Figure size 640x480 with 1 Axes>"
      ]
     },
     "metadata": {},
     "output_type": "display_data"
    },
    {
     "name": "stdout",
     "output_type": "stream",
     "text": [
      "day\n"
     ]
    },
    {
     "data": {
      "image/png": "[encoded data removed]",
      "text/plain": [
       "<Figure size 640x480 with 1 Axes>"
      ]
     },
     "metadata": {},
     "output_type": "display_data"
    },
    {
     "name": "stdout",
     "output_type": "stream",
     "text": [
      "event_categories_markup\n"
     ]
    },
    {
     "data": {
      "image/png": "[encoded data removed]",
      "text/plain": [
       "<Figure size 640x480 with 1 Axes>"
      ]
     },
     "metadata": {},
     "output_type": "display_data"
    },
    {
     "name": "stdout",
     "output_type": "stream",
     "text": [
      "screen_width\n"
     ]
    },
    {
     "data": {
      "image/png": "[encoded data removed]",
      "text/plain": [
       "<Figure size 640x480 with 1 Axes>"
      ]
     },
     "metadata": {},
     "output_type": "display_data"
    },
    {
     "name": "stdout",
     "output_type": "stream",
     "text": [
      "screen_height\n"
     ]
    },
    {
     "data": {
      "image/png": "[encoded data removed]",
      "text/plain": [
       "<Figure size 640x480 with 1 Axes>"
      ]
     },
     "metadata": {},
     "output_type": "display_data"
    },
    {
     "name": "stdout",
     "output_type": "stream",
     "text": [
      "utm_source_encoded\n"
     ]
    },
    {
     "data": {
      "image/png": "[encoded data removed]",
      "text/plain": [
       "<Figure size 640x480 with 1 Axes>"
      ]
     },
     "metadata": {},
     "output_type": "display_data"
    },
    {
     "name": "stdout",
     "output_type": "stream",
     "text": [
      "utm_medium_encoded\n"
     ]
    },
    {
     "data": {
      "image/png": "[encoded data removed]",
      "text/plain": [
       "<Figure size 640x480 with 1 Axes>"
      ]
     },
     "metadata": {},
     "output_type": "display_data"
    },
    {
     "name": "stdout",
     "output_type": "stream",
     "text": [
      "utm_campaign_encoded\n"
     ]
    },
    {
     "data": {
      "image/png": "[encoded data removed]",
      "text/plain": [
       "<Figure size 640x480 with 1 Axes>"
      ]
     },
     "metadata": {},
     "output_type": "display_data"
    },
    {
     "name": "stdout",
     "output_type": "stream",
     "text": [
      "device_category_encoded\n"
     ]
    },
    {
     "data": {
      "image/png": "[encoded data removed]",
      "text/plain": [
       "<Figure size 640x480 with 1 Axes>"
      ]
     },
     "metadata": {},
     "output_type": "display_data"
    },
    {
     "name": "stdout",
     "output_type": "stream",
     "text": [
      "device_brand_encoded\n"
     ]
    },
    {
     "data": {
      "image/png": "[encoded data removed]",
      "text/plain": [
       "<Figure size 640x480 with 1 Axes>"
      ]
     },
     "metadata": {},
     "output_type": "display_data"
    },
    {
     "name": "stdout",
     "output_type": "stream",
     "text": [
      "device_browser_encoded\n"
     ]
    },
    {
     "data": {
      "image/png": "[encoded data removed]",
      "text/plain": [
       "<Figure size 640x480 with 1 Axes>"
      ]
     },
     "metadata": {},
     "output_type": "display_data"
    },
    {
     "name": "stdout",
     "output_type": "stream",
     "text": [
      "geo_country_encoded\n"
     ]
    },
    {
     "data": {
      "image/png": "[encoded data removed]",
      "text/plain": [
       "<Figure size 640x480 with 1 Axes>"
      ]
     },
     "metadata": {},
     "output_type": "display_data"
    }
   ],
   "source": [
    "for c in merged_df2.columns:\n",
    "    print(c)\n",
    "    plt.scatter(merged_df2[c], merged_df2['event_categories_markup'])\n",
    "    plt.show()"
   ]
  },
  {
   "cell_type": "code",
   "execution_count": 57,
   "metadata": {},
   "outputs": [
    {
     "data": {
      "text/plain": [
       "<Axes: >"
      ]
     },
     "execution_count": 57,
     "metadata": {},
     "output_type": "execute_result"
    },
    {
     "data": {
      "image/png": "[encoded data removed]",
      "text/plain": [
       "<Figure size 640x480 with 2 Axes>"
      ]
     },
     "metadata": {},
     "output_type": "display_data"
    }
   ],
   "source": [
    "corr = merged_df2.corr() # матрица корреляций\n",
    "\n",
    "sns.heatmap(corr, cmap=\"Blues\", annot=True)"
   ]
  },
  {
   "cell_type": "code",
   "execution_count": 59,
   "metadata": {},
   "outputs": [
    {
     "data": {
      "text/plain": [
       "<Axes: >"
      ]
     },
     "execution_count": 59,
     "metadata": {},
     "output_type": "execute_result"
    },
    {
     "data": {
      "image/png": "[encoded data removed]",
      "text/plain": [
       "<Figure size 640x480 with 2 Axes>"
      ]
     },
     "metadata": {},
     "output_type": "display_data"
    }
   ],
   "source": [
    "corr = merged_df2.corr(method='spearman') # матрица корреляций\n",
    "\n",
    "sns.heatmap(corr, cmap=\"Blues\", annot=True)"
   ]
  },
  {
   "cell_type": "code",
   "execution_count": 60,
   "metadata": {},
   "outputs": [
    {
     "data": {
      "text/plain": [
       "<matplotlib.collections.PathCollection at 0x218a54fea10>"
      ]
     },
     "execution_count": 60,
     "metadata": {},
     "output_type": "execute_result"
    },
    {
     "data": {
      "image/png": "[encoded data removed]",
      "text/plain": [
       "<Figure size 640x480 with 1 Axes>"
      ]
     },
     "metadata": {},
     "output_type": "display_data"
    }
   ],
   "source": [
    "plt.scatter(np.log1p(merged_df2['utm_source_encoded']), merged_df2['event_categories_markup'])"
   ]
  },
  {
   "cell_type": "code",
   "execution_count": 71,
   "metadata": {},
   "outputs": [
    {
     "name": "stdout",
     "output_type": "stream",
     "text": [
      "Коэффициент корреляции (без преобразований) для month: 0.0859913041481743\n",
      "Коэффициент корреляции (квадратный корень) для month: 0.08031065448278228\n",
      "Коэффициент корреляции (логарифм) для month: 0.07578748657888962\n",
      "\n",
      "\n",
      "Коэффициент корреляции (без преобразований) для day: 0.004682555005223445\n",
      "Коэффициент корреляции (квадратный корень) для day: 0.004310918953382481\n",
      "Коэффициент корреляции (логарифм) для day: 0.0039265416607190936\n",
      "\n",
      "\n",
      "Коэффициент корреляции (без преобразований) для event_categories_markup: 1.0\n",
      "Коэффициент корреляции (квадратный корень) для event_categories_markup: 1.0\n",
      "Коэффициент корреляции (логарифм) для event_categories_markup: 0.999999999999841\n",
      "\n",
      "\n"
     ]
    }
   ],
   "source": [
    "def get_dependency(column):\n",
    "    # Рассчитываем коэффициенты корреляции\n",
    "    corr_coef = np.corrcoef(merged_df2[column], merged_df2['event_categories_markup'])[0][1]\n",
    "    corr_coef_sqrt = np.corrcoef(merged_df2[column] ** 0.5, merged_df2['event_categories_markup'])[0][1]\n",
    "    corr_coef_log = np.corrcoef(np.log1p(merged_df2[column]), merged_df2['event_categories_markup'])[0][1]\n",
    "    \n",
    "    # Выводим только положительные коэффициенты корреляции\n",
    "    if corr_coef > 0:\n",
    "        print(f'Коэффициент корреляции (без преобразований) для {column}: {corr_coef}')\n",
    "    if corr_coef_sqrt > 0:\n",
    "        print(f'Коэффициент корреляции (квадратный корень) для {column}: {corr_coef_sqrt}')\n",
    "    if corr_coef_log > 0:\n",
    "        print(f'Коэффициент корреляции (логарифм) для {column}: {corr_coef_log}')\n",
    "        print('\\n')\n",
    "    \n",
    "\n",
    "for c in merged_df2.columns:\n",
    "    get_dependency(c)"
   ]
  },
  {
   "cell_type": "code",
   "execution_count": 34,
   "metadata": {},
   "outputs": [],
   "source": [
    "merged_df2['log month'] = np.log1p(merged_df2['month'])\n",
    "merged_df2['log day'] = np.log1p(merged_df2['day'])\n",
    "\n",
    "merged_df2.drop(['month', 'day'], axis=1, inplace=True)"
   ]
  },
  {
   "cell_type": "markdown",
   "metadata": {},
   "source": [
    "## Переобучим модель логистической регрессии"
   ]
  },
  {
   "cell_type": "code",
   "execution_count": 27,
   "metadata": {},
   "outputs": [],
   "source": [
    "X_enc = merged_df2.drop(['event_categories_markup'], axis=1)\n",
    "y_enc = merged_df2['event_categories_markup']\n",
    "\n",
    "X_train_enc, X_test_enc, y_train_enc, y_test_enc = train_test_split(X_enc, y_enc, test_size=0.25, random_state=42)"
   ]
  },
  {
   "cell_type": "code",
   "execution_count": 28,
   "metadata": {},
   "outputs": [],
   "source": [
    "model.fit(X_train_enc, y_train_enc)\n",
    "\n",
    "pred_enc_clean = model.predict(X_test_enc)"
   ]
  },
  {
   "cell_type": "code",
   "execution_count": 75,
   "metadata": {},
   "outputs": [
    {
     "name": "stdout",
     "output_type": "stream",
     "text": [
      "0.82\n"
     ]
    }
   ],
   "source": [
    "coef = recall_score(y_test_enc, pred_enc_clean)\n",
    "coef"
   ]
  },
  {
   "cell_type": "markdown",
   "metadata": {},
   "source": [
    "## Шаг 2: изучение попарных зависимостей - полиномиальные признаки"
   ]
  },
  {
   "cell_type": "markdown",
   "metadata": {},
   "source": [
    "### Решение проблемы с памятью"
   ]
  },
  {
   "cell_type": "code",
   "execution_count": 31,
   "metadata": {},
   "outputs": [
    {
     "data": {
      "text/plain": [
       "hit_number                   int64\n",
       "month                        int64\n",
       "day                          int64\n",
       "event_categories_markup      int64\n",
       "screen_width               float64\n",
       "screen_height              float64\n",
       "utm_source_encoded           int64\n",
       "utm_medium_encoded           int64\n",
       "utm_campaign_encoded         int64\n",
       "device_category_encoded      int64\n",
       "device_brand_encoded         int64\n",
       "device_browser_encoded       int64\n",
       "geo_country_encoded          int64\n",
       "geo_city_encoded           float64\n",
       "dtype: object"
      ]
     },
     "execution_count": 31,
     "metadata": {},
     "output_type": "execute_result"
    }
   ],
   "source": [
    "merged_df2.dtypes"
   ]
  },
  {
   "cell_type": "code",
   "execution_count": 32,
   "metadata": {},
   "outputs": [
    {
     "data": {
      "text/html": [
       "<div>\n",
       "<style scoped>\n",
       "    .dataframe tbody tr th:only-of-type {\n",
       "        vertical-align: middle;\n",
       "    }\n",
       "\n",
       "    .dataframe tbody tr th {\n",
       "        vertical-align: top;\n",
       "    }\n",
       "\n",
       "    .dataframe thead th {\n",
       "        text-align: right;\n",
       "    }\n",
       "</style>\n",
       "<table border=\"1\" class=\"dataframe\">\n",
       "  <thead>\n",
       "    <tr style=\"text-align: right;\">\n",
       "      <th></th>\n",
       "      <th>hit_number</th>\n",
       "      <th>month</th>\n",
       "      <th>day</th>\n",
       "      <th>event_categories_markup</th>\n",
       "      <th>screen_width</th>\n",
       "      <th>screen_height</th>\n",
       "      <th>utm_source_encoded</th>\n",
       "      <th>utm_medium_encoded</th>\n",
       "      <th>utm_campaign_encoded</th>\n",
       "      <th>device_category_encoded</th>\n",
       "      <th>device_brand_encoded</th>\n",
       "      <th>device_browser_encoded</th>\n",
       "      <th>geo_country_encoded</th>\n",
       "      <th>geo_city_encoded</th>\n",
       "    </tr>\n",
       "  </thead>\n",
       "  <tbody>\n",
       "    <tr>\n",
       "      <th>count</th>\n",
       "      <td>1.195754e+07</td>\n",
       "      <td>1.195754e+07</td>\n",
       "      <td>1.195754e+07</td>\n",
       "      <td>1.195754e+07</td>\n",
       "      <td>1.195754e+07</td>\n",
       "      <td>1.195754e+07</td>\n",
       "      <td>1.195754e+07</td>\n",
       "      <td>1.195754e+07</td>\n",
       "      <td>1.195754e+07</td>\n",
       "      <td>1.195754e+07</td>\n",
       "      <td>1.195754e+07</td>\n",
       "      <td>1.195754e+07</td>\n",
       "      <td>1.195754e+07</td>\n",
       "      <td>1.195754e+07</td>\n",
       "    </tr>\n",
       "    <tr>\n",
       "      <th>mean</th>\n",
       "      <td>2.351770e+01</td>\n",
       "      <td>8.550724e+00</td>\n",
       "      <td>1.712492e+01</td>\n",
       "      <td>1.728980e-01</td>\n",
       "      <td>7.268277e+02</td>\n",
       "      <td>8.604403e+02</td>\n",
       "      <td>7.307740e+00</td>\n",
       "      <td>9.542452e+00</td>\n",
       "      <td>1.832164e+01</td>\n",
       "      <td>1.523351e+00</td>\n",
       "      <td>4.537403e+00</td>\n",
       "      <td>2.438587e+00</td>\n",
       "      <td>1.520494e+00</td>\n",
       "      <td>6.872766e+07</td>\n",
       "    </tr>\n",
       "    <tr>\n",
       "      <th>std</th>\n",
       "      <td>2.828606e+01</td>\n",
       "      <td>2.231042e+00</td>\n",
       "      <td>8.788297e+00</td>\n",
       "      <td>3.781591e-01</td>\n",
       "      <td>6.034200e+02</td>\n",
       "      <td>1.525225e+02</td>\n",
       "      <td>9.886622e+00</td>\n",
       "      <td>1.320530e+01</td>\n",
       "      <td>3.126485e+01</td>\n",
       "      <td>8.737124e-01</td>\n",
       "      <td>4.400620e+00</td>\n",
       "      <td>1.866218e+00</td>\n",
       "      <td>4.748644e+00</td>\n",
       "      <td>2.015965e+09</td>\n",
       "    </tr>\n",
       "    <tr>\n",
       "      <th>min</th>\n",
       "      <td>1.000000e+00</td>\n",
       "      <td>5.000000e+00</td>\n",
       "      <td>1.000000e+00</td>\n",
       "      <td>0.000000e+00</td>\n",
       "      <td>0.000000e+00</td>\n",
       "      <td>0.000000e+00</td>\n",
       "      <td>1.000000e+00</td>\n",
       "      <td>1.000000e+00</td>\n",
       "      <td>1.000000e+00</td>\n",
       "      <td>1.000000e+00</td>\n",
       "      <td>1.000000e+00</td>\n",
       "      <td>1.000000e+00</td>\n",
       "      <td>1.000000e+00</td>\n",
       "      <td>1.000000e+00</td>\n",
       "    </tr>\n",
       "    <tr>\n",
       "      <th>25%</th>\n",
       "      <td>8.000000e+00</td>\n",
       "      <td>7.000000e+00</td>\n",
       "      <td>1.000000e+01</td>\n",
       "      <td>0.000000e+00</td>\n",
       "      <td>3.750000e+02</td>\n",
       "      <td>7.800000e+02</td>\n",
       "      <td>1.000000e+00</td>\n",
       "      <td>1.000000e+00</td>\n",
       "      <td>5.000000e+00</td>\n",
       "      <td>1.000000e+00</td>\n",
       "      <td>3.000000e+00</td>\n",
       "      <td>1.000000e+00</td>\n",
       "      <td>1.000000e+00</td>\n",
       "      <td>1.000000e+01</td>\n",
       "    </tr>\n",
       "    <tr>\n",
       "      <th>50%</th>\n",
       "      <td>1.500000e+01</td>\n",
       "      <td>9.000000e+00</td>\n",
       "      <td>1.800000e+01</td>\n",
       "      <td>0.000000e+00</td>\n",
       "      <td>4.120000e+02</td>\n",
       "      <td>8.510000e+02</td>\n",
       "      <td>5.000000e+00</td>\n",
       "      <td>3.000000e+00</td>\n",
       "      <td>5.000000e+00</td>\n",
       "      <td>1.000000e+00</td>\n",
       "      <td>4.000000e+00</td>\n",
       "      <td>1.000000e+00</td>\n",
       "      <td>1.000000e+00</td>\n",
       "      <td>1.000000e+02</td>\n",
       "    </tr>\n",
       "    <tr>\n",
       "      <th>75%</th>\n",
       "      <td>2.900000e+01</td>\n",
       "      <td>1.000000e+01</td>\n",
       "      <td>2.500000e+01</td>\n",
       "      <td>0.000000e+00</td>\n",
       "      <td>9.620000e+02</td>\n",
       "      <td>9.000000e+02</td>\n",
       "      <td>8.000000e+00</td>\n",
       "      <td>9.000000e+00</td>\n",
       "      <td>1.800000e+01</td>\n",
       "      <td>3.000000e+00</td>\n",
       "      <td>6.000000e+00</td>\n",
       "      <td>3.000000e+00</td>\n",
       "      <td>1.000000e+00</td>\n",
       "      <td>1.101000e+04</td>\n",
       "    </tr>\n",
       "    <tr>\n",
       "      <th>max</th>\n",
       "      <td>5.000000e+02</td>\n",
       "      <td>1.200000e+01</td>\n",
       "      <td>3.100000e+01</td>\n",
       "      <td>1.000000e+00</td>\n",
       "      <td>5.924000e+03</td>\n",
       "      <td>2.000000e+04</td>\n",
       "      <td>3.350000e+02</td>\n",
       "      <td>5.400000e+01</td>\n",
       "      <td>4.320000e+02</td>\n",
       "      <td>3.000000e+00</td>\n",
       "      <td>2.050000e+02</td>\n",
       "      <td>5.700000e+01</td>\n",
       "      <td>1.660000e+02</td>\n",
       "      <td>1.001111e+11</td>\n",
       "    </tr>\n",
       "  </tbody>\n",
       "</table>\n",
       "</div>"
      ],
      "text/plain": [
       "         hit_number         month           day  event_categories_markup  \\\n",
       "count  1.195754e+07  1.195754e+07  1.195754e+07             1.195754e+07   \n",
       "mean   2.351770e+01  8.550724e+00  1.712492e+01             1.728980e-01   \n",
       "std    2.828606e+01  2.231042e+00  8.788297e+00             3.781591e-01   \n",
       "min    1.000000e+00  5.000000e+00  1.000000e+00             0.000000e+00   \n",
       "25%    8.000000e+00  7.000000e+00  1.000000e+01             0.000000e+00   \n",
       "50%    1.500000e+01  9.000000e+00  1.800000e+01             0.000000e+00   \n",
       "75%    2.900000e+01  1.000000e+01  2.500000e+01             0.000000e+00   \n",
       "max    5.000000e+02  1.200000e+01  3.100000e+01             1.000000e+00   \n",
       "\n",
       "       screen_width  screen_height  utm_source_encoded  utm_medium_encoded  \\\n",
       "count  1.195754e+07   1.195754e+07        1.195754e+07        1.195754e+07   \n",
       "mean   7.268277e+02   8.604403e+02        7.307740e+00        9.542452e+00   \n",
       "std    6.034200e+02   1.525225e+02        9.886622e+00        1.320530e+01   \n",
       "min    0.000000e+00   0.000000e+00        1.000000e+00        1.000000e+00   \n",
       "25%    3.750000e+02   7.800000e+02        1.000000e+00        1.000000e+00   \n",
       "50%    4.120000e+02   8.510000e+02        5.000000e+00        3.000000e+00   \n",
       "75%    9.620000e+02   9.000000e+02        8.000000e+00        9.000000e+00   \n",
       "max    5.924000e+03   2.000000e+04        3.350000e+02        5.400000e+01   \n",
       "\n",
       "       utm_campaign_encoded  device_category_encoded  device_brand_encoded  \\\n",
       "count          1.195754e+07             1.195754e+07          1.195754e+07   \n",
       "mean           1.832164e+01             1.523351e+00          4.537403e+00   \n",
       "std            3.126485e+01             8.737124e-01          4.400620e+00   \n",
       "min            1.000000e+00             1.000000e+00          1.000000e+00   \n",
       "25%            5.000000e+00             1.000000e+00          3.000000e+00   \n",
       "50%            5.000000e+00             1.000000e+00          4.000000e+00   \n",
       "75%            1.800000e+01             3.000000e+00          6.000000e+00   \n",
       "max            4.320000e+02             3.000000e+00          2.050000e+02   \n",
       "\n",
       "       device_browser_encoded  geo_country_encoded  geo_city_encoded  \n",
       "count            1.195754e+07         1.195754e+07      1.195754e+07  \n",
       "mean             2.438587e+00         1.520494e+00      6.872766e+07  \n",
       "std              1.866218e+00         4.748644e+00      2.015965e+09  \n",
       "min              1.000000e+00         1.000000e+00      1.000000e+00  \n",
       "25%              1.000000e+00         1.000000e+00      1.000000e+01  \n",
       "50%              1.000000e+00         1.000000e+00      1.000000e+02  \n",
       "75%              3.000000e+00         1.000000e+00      1.101000e+04  \n",
       "max              5.700000e+01         1.660000e+02      1.001111e+11  "
      ]
     },
     "execution_count": 32,
     "metadata": {},
     "output_type": "execute_result"
    }
   ],
   "source": [
    "merged_df2.describe()"
   ]
  },
  {
   "cell_type": "code",
   "execution_count": 35,
   "metadata": {},
   "outputs": [],
   "source": [
    "merged_df2['hit_number'] = merged_df2['hit_number'].astype('int16')\n",
    "merged_df2['event_categories_markup'] = merged_df2['event_categories_markup'].astype('int16')\n",
    "merged_df2['utm_source_encoded'] = merged_df2['utm_source_encoded'].astype('int16')\n",
    "merged_df2['utm_medium_encoded'] = merged_df2['utm_medium_encoded'].astype('int16')\n",
    "merged_df2['utm_campaign_encoded'] = merged_df2['utm_campaign_encoded'].astype('int16')\n",
    "merged_df2['device_category_encoded'] = merged_df2['device_category_encoded'].astype('int16')\n",
    "merged_df2['device_brand_encoded'] = merged_df2['device_brand_encoded'].astype('int16')\n",
    "merged_df2['device_browser_encoded'] = merged_df2['device_browser_encoded'].astype('int16')\n",
    "merged_df2['geo_country_encoded'] = merged_df2['geo_country_encoded'].astype('int16')\n",
    "\n",
    "\n",
    "\n",
    "merged_df2['screen_width'] = merged_df2['screen_width'].astype('float16')\n",
    "merged_df2['screen_height'] = merged_df2['screen_height'].astype('float16')\n",
    "merged_df2['log month'] = merged_df2['log month'].astype('float16')\n",
    "merged_df2['log day'] = merged_df2['log day'].astype('float16')"
   ]
  },
  {
   "cell_type": "markdown",
   "metadata": {},
   "source": [
    "### Полиномиальные признаки"
   ]
  },
  {
   "cell_type": "code",
   "execution_count": 40,
   "metadata": {},
   "outputs": [],
   "source": [
    "# Добавим полиномиальных признаков степени 2 и 3\n",
    "\n",
    "from sklearn.pipeline import Pipeline\n",
    "from sklearn.preprocessing import PolynomialFeatures\n",
    "from sklearn.preprocessing import MinMaxScaler\n",
    "\n",
    "model = LogisticRegression(class_weight='balanced')\n",
    "\n",
    "pipeline = Pipeline([\n",
    "    ('poly_features', PolynomialFeatures(degree=2)),\n",
    "    ('log_reg', model)\n",
    "])\n",
    "\n",
    "# Обучаем модель\n",
    "pipeline.fit(X_train_enc, y_train_enc)\n",
    "\n",
    "# Делаем предсказания\n",
    "y_pred = pipeline.predict(X_test_enc)"
   ]
  },
  {
   "cell_type": "code",
   "execution_count": 81,
   "metadata": {},
   "outputs": [],
   "source": [
    "pred_train = pipeline.predict(X_train_enc)\n"
   ]
  },
  {
   "cell_type": "code",
   "execution_count": 84,
   "metadata": {},
   "outputs": [
    {
     "name": "stdout",
     "output_type": "stream",
     "text": [
      "Метрики на обучающем наборе:\n",
      "Accuracy: 0.8273216731869598\n",
      "ROC AUC: 0.49055943179990125\n"
     ]
    }
   ],
   "source": [
    "# Предсказания на обучающем наборе\n",
    "pred_train = pipeline.predict(X_train_enc)\n",
    "y_train_prob = pipeline.predict_proba(X_train_enc)[:, 1]  # Вероятности для ROC AUC\n",
    "\n",
    "# Метрики для обучающей выборки\n",
    "accuracy_train = accuracy_score(y_train_enc, pred_train)\n",
    "roc_auc_train = roc_auc_score(y_train_enc, y_train_prob)\n",
    "\n",
    "\n",
    "# Вывод метрик\n",
    "print(\"Метрики на обучающем наборе:\")\n",
    "print(\"Accuracy:\", accuracy_train)\n",
    "print(\"ROC AUC:\", roc_auc_train)"
   ]
  },
  {
   "cell_type": "markdown",
   "metadata": {},
   "source": [
    "## CatBoosting"
   ]
  },
  {
   "cell_type": "code",
   "execution_count": 69,
   "metadata": {},
   "outputs": [
    {
     "name": "stdout",
     "output_type": "stream",
     "text": [
      "Learning rate set to 0.5\n",
      "0:\tlearn: 0.4907231\ttotal: 330ms\tremaining: 2.97s\n",
      "1:\tlearn: 0.4254708\ttotal: 651ms\tremaining: 2.6s\n",
      "2:\tlearn: 0.3990413\ttotal: 941ms\tremaining: 2.19s\n",
      "3:\tlearn: 0.3885402\ttotal: 1.32s\tremaining: 1.99s\n",
      "4:\tlearn: 0.3844254\ttotal: 1.64s\tremaining: 1.64s\n",
      "5:\tlearn: 0.3812683\ttotal: 1.94s\tremaining: 1.29s\n",
      "6:\tlearn: 0.3798519\ttotal: 2.31s\tremaining: 992ms\n",
      "7:\tlearn: 0.3784914\ttotal: 2.65s\tremaining: 662ms\n",
      "8:\tlearn: 0.3772398\ttotal: 3.01s\tremaining: 335ms\n",
      "9:\tlearn: 0.3765203\ttotal: 3.33s\tremaining: 0us\n",
      "Accuracy на обучающей выборке: 0.8609118132698911\n",
      "Accuracy на тестовой выборке: 0.8611510394278422\n"
     ]
    }
   ],
   "source": [
    "from catboost import CatBoostClassifier\n",
    "\n",
    "# Инициализация модели классификации\n",
    "cb = CatBoostClassifier(n_estimators=10)\n",
    "\n",
    "# Обучение модели\n",
    "cb.fit(X_train_enc, y_train_enc)\n",
    "\n",
    "# Предсказания\n",
    "pred_train = cb.predict(X_train_enc)\n",
    "y_pred = cb.predict(X_test_enc)\n",
    "\n",
    "# Метрики\n",
    "accuracy_train = accuracy_score(y_train_enc, pred_train)\n",
    "accuracy_test = accuracy_score(y_test_enc, y_pred)\n",
    "\n",
    "print(\"Accuracy на обучающей выборке:\", accuracy_train)\n",
    "print(\"Accuracy на тестовой выборке:\", accuracy_test)\n"
   ]
  },
  {
   "cell_type": "markdown",
   "metadata": {},
   "source": [
    "# Итоги\n",
    "\n",
    "Логистическая регрессия показывает качество: **accuracy = 0.67**.\n",
    "\n",
    "Были сделаны следующие шаги, каждый из которых улучшил качество:\n",
    "\n",
    "1. **Бинарное кодирование** всех категориальных столбцов, чтобы их можно было использовать для обучения модели.\n",
    "\n",
    "2. При поиске **выбросов** с помощью графиков было выявлено, что бинарное представление значений не позволяет проанализировать графики. Из-за этого пришлось **перекодировать** все значения с помощью **One-Hot кодирования**.\n",
    "\n",
    "3. **Логарифмирование** нескольких признаков.\n",
    "\n",
    "4. Переобучение модели логистической регрессии: **accuracy = 0.82**.\n",
    "\n",
    "5. Добавление **полиномиальных признаков** степени 2 и 3 с последующей **регуляризацией**.\n",
    "\n",
    "6. Использование **CatBoostClassifier**, получили точность:\n",
    "   - Accuracy на обучающей выборке: **0.8609**\n",
    "   - Accuracy на тестовой выборке: **0.8612**\n",
    "\n",
    "## Итоговый результат: **Accuracy = 0.86**\n"
   ]
  }
 ],
 "metadata": {
  "kernelspec": {
   "display_name": "base",
   "language": "python",
   "name": "python3"
  },
  "language_info": {
   "codemirror_mode": {
    "name": "ipython",
    "version": 3
   },
   "file_extension": ".py",
   "mimetype": "text/x-python",
   "name": "python",
   "nbconvert_exporter": "python",
   "pygments_lexer": "ipython3",
   "version": "3.11.5"
  }
 },
 "nbformat": 4,
 "nbformat_minor": 2
}
